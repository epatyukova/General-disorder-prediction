{
 "cells": [
  {
   "cell_type": "markdown",
   "id": "e59efbd9",
   "metadata": {},
   "source": [
    "In this file some discussed dummy models for disorder prediction are discussed. <br>\n",
    "<br>\n",
    "(1) The logistic regression model that predicts disorder from the number of elements <br>\n",
    "(2) The RF model that predicts disorder from the fractional coefficients <br>\n",
    "(3) The model that predicts disorder from the fractional coefficients using the deterministic algorithm:\n",
    "if f=(f1,...f6) is a compositions and n=1,...N are numbers up to N, then if for all n nf is composed of noninteger numbers (tol = 0.01) then the compound is disordered, otherwise it is ordered (suggested by A. Troisi)"
   ]
  },
  {
   "cell_type": "code",
   "execution_count": 11,
   "id": "953e2feb",
   "metadata": {},
   "outputs": [],
   "source": [
    "import numpy as np\n",
    "import pandas as pd\n",
    "import json\n",
    "import re\n",
    "import os\n",
    "import ast\n",
    "import matplotlib.pyplot as plt\n",
    "from utils.composition import composition_from_formula,merged_comp\n",
    "from sklearn.model_selection import train_test_split\n",
    "from sklearn.ensemble import RandomForestClassifier\n",
    "from sklearn.metrics import accuracy_score, f1_score,roc_auc_score,matthews_corrcoef\n",
    "from sklearn.linear_model import LogisticRegression"
   ]
  },
  {
   "cell_type": "code",
   "execution_count": 12,
   "id": "ff0d8038",
   "metadata": {},
   "outputs": [],
   "source": [
    "file='data/ICSD_disorder_1_02_2024.csv'"
   ]
  },
  {
   "cell_type": "code",
   "execution_count": 13,
   "id": "52dd2f87",
   "metadata": {},
   "outputs": [],
   "source": [
    "dis=pd.read_csv(file)"
   ]
  },
  {
   "cell_type": "code",
   "execution_count": 14,
   "id": "2aab3fec",
   "metadata": {},
   "outputs": [
    {
     "data": {
      "text/plain": [
       "Index(['formula', 'target'], dtype='object')"
      ]
     },
     "execution_count": 14,
     "metadata": {},
     "output_type": "execute_result"
    }
   ],
   "source": [
    "dis.columns"
   ]
  },
  {
   "cell_type": "code",
   "execution_count": 15,
   "id": "ad26eb7a",
   "metadata": {},
   "outputs": [],
   "source": [
    "compositions=merged_comp(dis)"
   ]
  },
  {
   "cell_type": "code",
   "execution_count": 17,
   "id": "9026e228",
   "metadata": {},
   "outputs": [],
   "source": [
    "dis['comp']=compositions\n",
    "list_of_comp=set(compositions)\n",
    "target=[]\n",
    "formula=[]\n",
    "for comp in list_of_comp:\n",
    "    dx=dis.loc[dis['comp']==comp]\n",
    "    if(len(set(dx['target'].values))==1):\n",
    "        target.append(dx['target'].values[0])\n",
    "        formula.append(dx['formula'].values[0])"
   ]
  },
  {
   "cell_type": "code",
   "execution_count": 18,
   "id": "343ac6fb",
   "metadata": {},
   "outputs": [],
   "source": [
    "dis=pd.DataFrame()\n",
    "dis['formula']=formula\n",
    "dis['disorder']=target"
   ]
  },
  {
   "cell_type": "code",
   "execution_count": 19,
   "id": "334769d4",
   "metadata": {},
   "outputs": [
    {
     "data": {
      "text/plain": [
       "89410"
      ]
     },
     "execution_count": 19,
     "metadata": {},
     "output_type": "execute_result"
    }
   ],
   "source": [
    "len(dis)"
   ]
  },
  {
   "cell_type": "code",
   "execution_count": 20,
   "id": "0bf2bf0f",
   "metadata": {},
   "outputs": [],
   "source": [
    "num_el=[]\n",
    "coefficients=[]\n",
    "exc_index=[]\n",
    "for i in range(len(dis)):\n",
    "    try:\n",
    "        norm_comp=composition_from_formula(dis.iloc[i]['formula'])\n",
    "        norm=np.sum(list(norm_comp.values()))\n",
    "        coefficients.append(np.around(np.array(list(norm_comp.values()),dtype=float)/norm,decimals=4))\n",
    "        num_el.append(len(norm_comp.keys()))\n",
    "    except:\n",
    "        exc_index.append(i)\n",
    "        num_el.append({})\n",
    "        coefficients.append({})"
   ]
  },
  {
   "cell_type": "code",
   "execution_count": 21,
   "id": "f3e0d3fd",
   "metadata": {},
   "outputs": [],
   "source": [
    "dis['num_el']=num_el\n",
    "dis['coef']=coefficients"
   ]
  },
  {
   "cell_type": "code",
   "execution_count": 22,
   "id": "af07b006",
   "metadata": {},
   "outputs": [
    {
     "data": {
      "text/plain": [
       "20"
      ]
     },
     "execution_count": 22,
     "metadata": {},
     "output_type": "execute_result"
    }
   ],
   "source": [
    "max(num_el)"
   ]
  },
  {
   "cell_type": "code",
   "execution_count": 23,
   "id": "2f66a429",
   "metadata": {},
   "outputs": [],
   "source": [
    "### Fraction of disordered compounds"
   ]
  },
  {
   "cell_type": "code",
   "execution_count": 24,
   "id": "536eceaa",
   "metadata": {},
   "outputs": [
    {
     "data": {
      "text/plain": [
       "0.6104238899451963"
      ]
     },
     "execution_count": 24,
     "metadata": {},
     "output_type": "execute_result"
    }
   ],
   "source": [
    "len(dis.loc[dis['disorder']==1])/len(dis)"
   ]
  },
  {
   "cell_type": "code",
   "execution_count": 25,
   "id": "94c0531f",
   "metadata": {},
   "outputs": [
    {
     "data": {
      "text/html": [
       "<div>\n",
       "<style scoped>\n",
       "    .dataframe tbody tr th:only-of-type {\n",
       "        vertical-align: middle;\n",
       "    }\n",
       "\n",
       "    .dataframe tbody tr th {\n",
       "        vertical-align: top;\n",
       "    }\n",
       "\n",
       "    .dataframe thead th {\n",
       "        text-align: right;\n",
       "    }\n",
       "</style>\n",
       "<table border=\"1\" class=\"dataframe\">\n",
       "  <thead>\n",
       "    <tr style=\"text-align: right;\">\n",
       "      <th></th>\n",
       "      <th>formula</th>\n",
       "      <th>disorder</th>\n",
       "      <th>num_el</th>\n",
       "      <th>coef</th>\n",
       "    </tr>\n",
       "  </thead>\n",
       "  <tbody>\n",
       "    <tr>\n",
       "      <th>0</th>\n",
       "      <td>Cr12 P7</td>\n",
       "      <td>1</td>\n",
       "      <td>2</td>\n",
       "      <td>[0.6316, 0.3684]</td>\n",
       "    </tr>\n",
       "    <tr>\n",
       "      <th>1</th>\n",
       "      <td>Ba0.12 Bi0.82 Fe0.88 O3 Ti0.12</td>\n",
       "      <td>1</td>\n",
       "      <td>5</td>\n",
       "      <td>[0.1781, 0.6073, 0.0243, 0.0243, 0.166]</td>\n",
       "    </tr>\n",
       "    <tr>\n",
       "      <th>2</th>\n",
       "      <td>Hf2 P1 Sb1</td>\n",
       "      <td>0</td>\n",
       "      <td>3</td>\n",
       "      <td>[0.5, 0.25, 0.25]</td>\n",
       "    </tr>\n",
       "    <tr>\n",
       "      <th>3</th>\n",
       "      <td>Pd4 Pr2 Sn7</td>\n",
       "      <td>0</td>\n",
       "      <td>3</td>\n",
       "      <td>[0.5385, 0.3077, 0.1538]</td>\n",
       "    </tr>\n",
       "    <tr>\n",
       "      <th>4</th>\n",
       "      <td>Cr2 Fe0.13 Mg0.87 O4</td>\n",
       "      <td>1</td>\n",
       "      <td>4</td>\n",
       "      <td>[0.2857, 0.0186, 0.5714, 0.1243]</td>\n",
       "    </tr>\n",
       "    <tr>\n",
       "      <th>...</th>\n",
       "      <td>...</td>\n",
       "      <td>...</td>\n",
       "      <td>...</td>\n",
       "      <td>...</td>\n",
       "    </tr>\n",
       "    <tr>\n",
       "      <th>89405</th>\n",
       "      <td>In4.76 Nd3.9 S13</td>\n",
       "      <td>1</td>\n",
       "      <td>3</td>\n",
       "      <td>[0.1801, 0.6002, 0.2198]</td>\n",
       "    </tr>\n",
       "    <tr>\n",
       "      <th>89406</th>\n",
       "      <td>Al4.648 O9.672 Si1.352</td>\n",
       "      <td>1</td>\n",
       "      <td>3</td>\n",
       "      <td>[0.0863, 0.6172, 0.2966]</td>\n",
       "    </tr>\n",
       "    <tr>\n",
       "      <th>89407</th>\n",
       "      <td>Al3.6 Bi0.47 Fe9.4 La6</td>\n",
       "      <td>1</td>\n",
       "      <td>4</td>\n",
       "      <td>[0.4828, 0.3082, 0.0241, 0.1849]</td>\n",
       "    </tr>\n",
       "    <tr>\n",
       "      <th>89408</th>\n",
       "      <td>Br10 Co1 Gd6</td>\n",
       "      <td>0</td>\n",
       "      <td>3</td>\n",
       "      <td>[0.3529, 0.5882, 0.0588]</td>\n",
       "    </tr>\n",
       "    <tr>\n",
       "      <th>89409</th>\n",
       "      <td>Al12 O50.7 Si12 Zn8.9</td>\n",
       "      <td>1</td>\n",
       "      <td>4</td>\n",
       "      <td>[0.1065, 0.1435, 0.6065, 0.1435]</td>\n",
       "    </tr>\n",
       "  </tbody>\n",
       "</table>\n",
       "<p>89410 rows × 4 columns</p>\n",
       "</div>"
      ],
      "text/plain": [
       "                              formula  disorder  num_el  \\\n",
       "0                             Cr12 P7         1       2   \n",
       "1      Ba0.12 Bi0.82 Fe0.88 O3 Ti0.12         1       5   \n",
       "2                          Hf2 P1 Sb1         0       3   \n",
       "3                         Pd4 Pr2 Sn7         0       3   \n",
       "4                Cr2 Fe0.13 Mg0.87 O4         1       4   \n",
       "...                               ...       ...     ...   \n",
       "89405                In4.76 Nd3.9 S13         1       3   \n",
       "89406          Al4.648 O9.672 Si1.352         1       3   \n",
       "89407          Al3.6 Bi0.47 Fe9.4 La6         1       4   \n",
       "89408                    Br10 Co1 Gd6         0       3   \n",
       "89409           Al12 O50.7 Si12 Zn8.9         1       4   \n",
       "\n",
       "                                          coef  \n",
       "0                             [0.6316, 0.3684]  \n",
       "1      [0.1781, 0.6073, 0.0243, 0.0243, 0.166]  \n",
       "2                            [0.5, 0.25, 0.25]  \n",
       "3                     [0.5385, 0.3077, 0.1538]  \n",
       "4             [0.2857, 0.0186, 0.5714, 0.1243]  \n",
       "...                                        ...  \n",
       "89405                 [0.1801, 0.6002, 0.2198]  \n",
       "89406                 [0.0863, 0.6172, 0.2966]  \n",
       "89407         [0.4828, 0.3082, 0.0241, 0.1849]  \n",
       "89408                 [0.3529, 0.5882, 0.0588]  \n",
       "89409         [0.1065, 0.1435, 0.6065, 0.1435]  \n",
       "\n",
       "[89410 rows x 4 columns]"
      ]
     },
     "execution_count": 25,
     "metadata": {},
     "output_type": "execute_result"
    }
   ],
   "source": [
    "dis"
   ]
  },
  {
   "cell_type": "markdown",
   "id": "8412d7e5",
   "metadata": {},
   "source": [
    "## Model 1"
   ]
  },
  {
   "cell_type": "code",
   "execution_count": 33,
   "id": "9b885cf9",
   "metadata": {},
   "outputs": [],
   "source": [
    "X=np.array([dis['num_el']]).T\n",
    "y=dis['disorder']"
   ]
  },
  {
   "cell_type": "code",
   "execution_count": 34,
   "id": "ded254a8",
   "metadata": {},
   "outputs": [
    {
     "data": {
      "image/png": "[encoded data removed]",
      "text/plain": [
       "<Figure size 640x480 with 1 Axes>"
      ]
     },
     "metadata": {},
     "output_type": "display_data"
    }
   ],
   "source": [
    "plt.scatter(X,y,alpha=0.01)\n",
    "plt.show()"
   ]
  },
  {
   "cell_type": "code",
   "execution_count": 35,
   "id": "2d335e7d",
   "metadata": {},
   "outputs": [],
   "source": [
    "Xtrain, Xtest, ytrain, ytest = train_test_split(X, y, test_size=0.1, random_state=42)\n",
    "Xtrain, Xval, yval, yval = train_test_split(X, y, test_size=0.1, random_state=42)"
   ]
  },
  {
   "cell_type": "code",
   "execution_count": 36,
   "id": "40454476",
   "metadata": {},
   "outputs": [],
   "source": [
    "LG=LogisticRegression()"
   ]
  },
  {
   "cell_type": "code",
   "execution_count": 37,
   "id": "61af1036",
   "metadata": {},
   "outputs": [
    {
     "data": {
      "text/html": [
       "<style>#sk-container-id-1 {color: black;background-color: white;}#sk-container-id-1 pre{padding: 0;}#sk-container-id-1 div.sk-toggleable {background-color: white;}#sk-container-id-1 label.sk-toggleable__label {cursor: pointer;display: block;width: 100%;margin-bottom: 0;padding: 0.3em;box-sizing: border-box;text-align: center;}#sk-container-id-1 label.sk-toggleable__label-arrow:before {content: \"▸\";float: left;margin-right: 0.25em;color: #696969;}#sk-container-id-1 label.sk-toggleable__label-arrow:hover:before {color: black;}#sk-container-id-1 div.sk-estimator:hover label.sk-toggleable__label-arrow:before {color: black;}#sk-container-id-1 div.sk-toggleable__content {max-height: 0;max-width: 0;overflow: hidden;text-align: left;background-color: #f0f8ff;}#sk-container-id-1 div.sk-toggleable__content pre {margin: 0.2em;color: black;border-radius: 0.25em;background-color: #f0f8ff;}#sk-container-id-1 input.sk-toggleable__control:checked~div.sk-toggleable__content {max-height: 200px;max-width: 100%;overflow: auto;}#sk-container-id-1 input.sk-toggleable__control:checked~label.sk-toggleable__label-arrow:before {content: \"▾\";}#sk-container-id-1 div.sk-estimator input.sk-toggleable__control:checked~label.sk-toggleable__label {background-color: #d4ebff;}#sk-container-id-1 div.sk-label input.sk-toggleable__control:checked~label.sk-toggleable__label {background-color: #d4ebff;}#sk-container-id-1 input.sk-hidden--visually {border: 0;clip: rect(1px 1px 1px 1px);clip: rect(1px, 1px, 1px, 1px);height: 1px;margin: -1px;overflow: hidden;padding: 0;position: absolute;width: 1px;}#sk-container-id-1 div.sk-estimator {font-family: monospace;background-color: #f0f8ff;border: 1px dotted black;border-radius: 0.25em;box-sizing: border-box;margin-bottom: 0.5em;}#sk-container-id-1 div.sk-estimator:hover {background-color: #d4ebff;}#sk-container-id-1 div.sk-parallel-item::after {content: \"\";width: 100%;border-bottom: 1px solid gray;flex-grow: 1;}#sk-container-id-1 div.sk-label:hover label.sk-toggleable__label {background-color: #d4ebff;}#sk-container-id-1 div.sk-serial::before {content: \"\";position: absolute;border-left: 1px solid gray;box-sizing: border-box;top: 0;bottom: 0;left: 50%;z-index: 0;}#sk-container-id-1 div.sk-serial {display: flex;flex-direction: column;align-items: center;background-color: white;padding-right: 0.2em;padding-left: 0.2em;position: relative;}#sk-container-id-1 div.sk-item {position: relative;z-index: 1;}#sk-container-id-1 div.sk-parallel {display: flex;align-items: stretch;justify-content: center;background-color: white;position: relative;}#sk-container-id-1 div.sk-item::before, #sk-container-id-1 div.sk-parallel-item::before {content: \"\";position: absolute;border-left: 1px solid gray;box-sizing: border-box;top: 0;bottom: 0;left: 50%;z-index: -1;}#sk-container-id-1 div.sk-parallel-item {display: flex;flex-direction: column;z-index: 1;position: relative;background-color: white;}#sk-container-id-1 div.sk-parallel-item:first-child::after {align-self: flex-end;width: 50%;}#sk-container-id-1 div.sk-parallel-item:last-child::after {align-self: flex-start;width: 50%;}#sk-container-id-1 div.sk-parallel-item:only-child::after {width: 0;}#sk-container-id-1 div.sk-dashed-wrapped {border: 1px dashed gray;margin: 0 0.4em 0.5em 0.4em;box-sizing: border-box;padding-bottom: 0.4em;background-color: white;}#sk-container-id-1 div.sk-label label {font-family: monospace;font-weight: bold;display: inline-block;line-height: 1.2em;}#sk-container-id-1 div.sk-label-container {text-align: center;}#sk-container-id-1 div.sk-container {/* jupyter's `normalize.less` sets `[hidden] { display: none; }` but bootstrap.min.css set `[hidden] { display: none !important; }` so we also need the `!important` here to be able to override the default hidden behavior on the sphinx rendered scikit-learn.org. See: https://github.com/scikit-learn/scikit-learn/issues/21755 */display: inline-block !important;position: relative;}#sk-container-id-1 div.sk-text-repr-fallback {display: none;}</style><div id=\"sk-container-id-1\" class=\"sk-top-container\"><div class=\"sk-text-repr-fallback\"><pre>LogisticRegression()</pre><b>In a Jupyter environment, please rerun this cell to show the HTML representation or trust the notebook. <br />On GitHub, the HTML representation is unable to render, please try loading this page with nbviewer.org.</b></div><div class=\"sk-container\" hidden><div class=\"sk-item\"><div class=\"sk-estimator sk-toggleable\"><input class=\"sk-toggleable__control sk-hidden--visually\" id=\"sk-estimator-id-1\" type=\"checkbox\" checked><label for=\"sk-estimator-id-1\" class=\"sk-toggleable__label sk-toggleable__label-arrow\">LogisticRegression</label><div class=\"sk-toggleable__content\"><pre>LogisticRegression()</pre></div></div></div></div></div>"
      ],
      "text/plain": [
       "LogisticRegression()"
      ]
     },
     "execution_count": 37,
     "metadata": {},
     "output_type": "execute_result"
    }
   ],
   "source": [
    "LG.fit(Xtrain,ytrain)"
   ]
  },
  {
   "cell_type": "code",
   "execution_count": 38,
   "id": "bb72448e",
   "metadata": {},
   "outputs": [
    {
     "data": {
      "text/plain": [
       "0.6389665585504977"
      ]
     },
     "execution_count": 38,
     "metadata": {},
     "output_type": "execute_result"
    }
   ],
   "source": [
    "LG.score(Xval,yval)"
   ]
  },
  {
   "cell_type": "code",
   "execution_count": 39,
   "id": "90df6173",
   "metadata": {},
   "outputs": [],
   "source": [
    "pred=LG.predict(Xtest)"
   ]
  },
  {
   "cell_type": "code",
   "execution_count": 40,
   "id": "dd5b5ad9",
   "metadata": {},
   "outputs": [
    {
     "name": "stdout",
     "output_type": "stream",
     "text": [
      "acc:  0.6389665585504977\n",
      "MOC:  0.16771838739863007\n",
      "AUC:  0.6313616886988529\n",
      "F1-score:  0.7599643069601428\n"
     ]
    }
   ],
   "source": [
    "print('acc: ', accuracy_score(pred,ytest))\n",
    "print('MOC: ',matthews_corrcoef(pred,ytest))\n",
    "print('AUC: ', roc_auc_score(pred,ytest))\n",
    "print('F1-score: ', f1_score(pred,ytest))"
   ]
  },
  {
   "cell_type": "markdown",
   "id": "5cb09ad9",
   "metadata": {},
   "source": [
    "## Model 2"
   ]
  },
  {
   "cell_type": "code",
   "execution_count": 41,
   "id": "2b9a3ab3",
   "metadata": {},
   "outputs": [
    {
     "data": {
      "text/html": [
       "<div>\n",
       "<style scoped>\n",
       "    .dataframe tbody tr th:only-of-type {\n",
       "        vertical-align: middle;\n",
       "    }\n",
       "\n",
       "    .dataframe tbody tr th {\n",
       "        vertical-align: top;\n",
       "    }\n",
       "\n",
       "    .dataframe thead th {\n",
       "        text-align: right;\n",
       "    }\n",
       "</style>\n",
       "<table border=\"1\" class=\"dataframe\">\n",
       "  <thead>\n",
       "    <tr style=\"text-align: right;\">\n",
       "      <th></th>\n",
       "      <th>formula</th>\n",
       "      <th>disorder</th>\n",
       "      <th>num_el</th>\n",
       "      <th>coef</th>\n",
       "    </tr>\n",
       "  </thead>\n",
       "  <tbody>\n",
       "    <tr>\n",
       "      <th>0</th>\n",
       "      <td>Cr12 P7</td>\n",
       "      <td>1</td>\n",
       "      <td>2</td>\n",
       "      <td>[0.6316, 0.3684]</td>\n",
       "    </tr>\n",
       "    <tr>\n",
       "      <th>1</th>\n",
       "      <td>Ba0.12 Bi0.82 Fe0.88 O3 Ti0.12</td>\n",
       "      <td>1</td>\n",
       "      <td>5</td>\n",
       "      <td>[0.1781, 0.6073, 0.0243, 0.0243, 0.166]</td>\n",
       "    </tr>\n",
       "    <tr>\n",
       "      <th>2</th>\n",
       "      <td>Hf2 P1 Sb1</td>\n",
       "      <td>0</td>\n",
       "      <td>3</td>\n",
       "      <td>[0.5, 0.25, 0.25]</td>\n",
       "    </tr>\n",
       "    <tr>\n",
       "      <th>3</th>\n",
       "      <td>Pd4 Pr2 Sn7</td>\n",
       "      <td>0</td>\n",
       "      <td>3</td>\n",
       "      <td>[0.5385, 0.3077, 0.1538]</td>\n",
       "    </tr>\n",
       "    <tr>\n",
       "      <th>4</th>\n",
       "      <td>Cr2 Fe0.13 Mg0.87 O4</td>\n",
       "      <td>1</td>\n",
       "      <td>4</td>\n",
       "      <td>[0.2857, 0.0186, 0.5714, 0.1243]</td>\n",
       "    </tr>\n",
       "    <tr>\n",
       "      <th>...</th>\n",
       "      <td>...</td>\n",
       "      <td>...</td>\n",
       "      <td>...</td>\n",
       "      <td>...</td>\n",
       "    </tr>\n",
       "    <tr>\n",
       "      <th>89405</th>\n",
       "      <td>In4.76 Nd3.9 S13</td>\n",
       "      <td>1</td>\n",
       "      <td>3</td>\n",
       "      <td>[0.1801, 0.6002, 0.2198]</td>\n",
       "    </tr>\n",
       "    <tr>\n",
       "      <th>89406</th>\n",
       "      <td>Al4.648 O9.672 Si1.352</td>\n",
       "      <td>1</td>\n",
       "      <td>3</td>\n",
       "      <td>[0.0863, 0.6172, 0.2966]</td>\n",
       "    </tr>\n",
       "    <tr>\n",
       "      <th>89407</th>\n",
       "      <td>Al3.6 Bi0.47 Fe9.4 La6</td>\n",
       "      <td>1</td>\n",
       "      <td>4</td>\n",
       "      <td>[0.4828, 0.3082, 0.0241, 0.1849]</td>\n",
       "    </tr>\n",
       "    <tr>\n",
       "      <th>89408</th>\n",
       "      <td>Br10 Co1 Gd6</td>\n",
       "      <td>0</td>\n",
       "      <td>3</td>\n",
       "      <td>[0.3529, 0.5882, 0.0588]</td>\n",
       "    </tr>\n",
       "    <tr>\n",
       "      <th>89409</th>\n",
       "      <td>Al12 O50.7 Si12 Zn8.9</td>\n",
       "      <td>1</td>\n",
       "      <td>4</td>\n",
       "      <td>[0.1065, 0.1435, 0.6065, 0.1435]</td>\n",
       "    </tr>\n",
       "  </tbody>\n",
       "</table>\n",
       "<p>89410 rows × 4 columns</p>\n",
       "</div>"
      ],
      "text/plain": [
       "                              formula  disorder  num_el  \\\n",
       "0                             Cr12 P7         1       2   \n",
       "1      Ba0.12 Bi0.82 Fe0.88 O3 Ti0.12         1       5   \n",
       "2                          Hf2 P1 Sb1         0       3   \n",
       "3                         Pd4 Pr2 Sn7         0       3   \n",
       "4                Cr2 Fe0.13 Mg0.87 O4         1       4   \n",
       "...                               ...       ...     ...   \n",
       "89405                In4.76 Nd3.9 S13         1       3   \n",
       "89406          Al4.648 O9.672 Si1.352         1       3   \n",
       "89407          Al3.6 Bi0.47 Fe9.4 La6         1       4   \n",
       "89408                    Br10 Co1 Gd6         0       3   \n",
       "89409           Al12 O50.7 Si12 Zn8.9         1       4   \n",
       "\n",
       "                                          coef  \n",
       "0                             [0.6316, 0.3684]  \n",
       "1      [0.1781, 0.6073, 0.0243, 0.0243, 0.166]  \n",
       "2                            [0.5, 0.25, 0.25]  \n",
       "3                     [0.5385, 0.3077, 0.1538]  \n",
       "4             [0.2857, 0.0186, 0.5714, 0.1243]  \n",
       "...                                        ...  \n",
       "89405                 [0.1801, 0.6002, 0.2198]  \n",
       "89406                 [0.0863, 0.6172, 0.2966]  \n",
       "89407         [0.4828, 0.3082, 0.0241, 0.1849]  \n",
       "89408                 [0.3529, 0.5882, 0.0588]  \n",
       "89409         [0.1065, 0.1435, 0.6065, 0.1435]  \n",
       "\n",
       "[89410 rows x 4 columns]"
      ]
     },
     "execution_count": 41,
     "metadata": {},
     "output_type": "execute_result"
    }
   ],
   "source": [
    "dis"
   ]
  },
  {
   "cell_type": "code",
   "execution_count": 42,
   "id": "5e641e09",
   "metadata": {},
   "outputs": [],
   "source": [
    "X=np.zeros(((len(dis)),max(dis['num_el'].values)))"
   ]
  },
  {
   "cell_type": "code",
   "execution_count": 43,
   "id": "c42e848e",
   "metadata": {},
   "outputs": [],
   "source": [
    "for i,x_line in enumerate(X):\n",
    "    for j,x in enumerate(dis.iloc[i]['coef']):\n",
    "        X[i][j]=x\n",
    "    "
   ]
  },
  {
   "cell_type": "code",
   "execution_count": 44,
   "id": "98e03300",
   "metadata": {},
   "outputs": [],
   "source": [
    "Xtrain, Xtest, ytrain, ytest = train_test_split(X, y, test_size=0.1, random_state=42)\n",
    "Xtrain, Xval, yval, yval = train_test_split(X, y, test_size=0.1, random_state=42)"
   ]
  },
  {
   "cell_type": "code",
   "execution_count": 45,
   "id": "784b62be",
   "metadata": {},
   "outputs": [],
   "source": [
    "RF=RandomForestClassifier(n_estimators=80)"
   ]
  },
  {
   "cell_type": "code",
   "execution_count": 46,
   "id": "4ce20ac6",
   "metadata": {},
   "outputs": [
    {
     "data": {
      "text/plain": [
       "0.8221675427804496"
      ]
     },
     "execution_count": 46,
     "metadata": {},
     "output_type": "execute_result"
    }
   ],
   "source": [
    "RF.fit(Xtrain,ytrain)\n",
    "RF.score(Xval,yval)"
   ]
  },
  {
   "cell_type": "code",
   "execution_count": 47,
   "id": "0448be93",
   "metadata": {},
   "outputs": [],
   "source": [
    "pred=RF.predict(Xtest)"
   ]
  },
  {
   "cell_type": "code",
   "execution_count": 48,
   "id": "722421dd",
   "metadata": {},
   "outputs": [
    {
     "name": "stdout",
     "output_type": "stream",
     "text": [
      "acc:  0.8221675427804496\n",
      "MOC:  0.6354552269612597\n",
      "AUC:  0.8125762007400157\n",
      "F1-score:  0.8495173197047132\n"
     ]
    }
   ],
   "source": [
    "print('acc: ', accuracy_score(pred,ytest))\n",
    "print('MOC: ',matthews_corrcoef(pred,ytest))\n",
    "print('AUC: ', roc_auc_score(pred,ytest))\n",
    "print('F1-score: ', f1_score(pred,ytest))"
   ]
  },
  {
   "cell_type": "markdown",
   "id": "6604c920",
   "metadata": {},
   "source": [
    "## Model 3"
   ]
  },
  {
   "cell_type": "code",
   "execution_count": 1,
   "id": "d5b5fabc",
   "metadata": {},
   "outputs": [
    {
     "ename": "NameError",
     "evalue": "name 'dis' is not defined",
     "output_type": "error",
     "traceback": [
      "\u001b[0;31m---------------------------------------------------------------------------\u001b[0m",
      "\u001b[0;31mNameError\u001b[0m                                 Traceback (most recent call last)",
      "Cell \u001b[0;32mIn[1], line 1\u001b[0m\n\u001b[0;32m----> 1\u001b[0m X\u001b[38;5;241m=\u001b[39mdis[\u001b[38;5;124m'\u001b[39m\u001b[38;5;124mcoef\u001b[39m\u001b[38;5;124m'\u001b[39m]\u001b[38;5;241m.\u001b[39mvalues\n\u001b[1;32m      2\u001b[0m y\u001b[38;5;241m=\u001b[39mdis[\u001b[38;5;124m'\u001b[39m\u001b[38;5;124mdisorder\u001b[39m\u001b[38;5;124m'\u001b[39m]\u001b[38;5;241m.\u001b[39mvalues\n",
      "\u001b[0;31mNameError\u001b[0m: name 'dis' is not defined"
     ]
    }
   ],
   "source": [
    "X=dis['coef'].values\n",
    "y=dis['disorder'].values"
   ]
  },
  {
   "cell_type": "code",
   "execution_count": 27,
   "id": "4c314df5",
   "metadata": {},
   "outputs": [],
   "source": [
    "Xtrain, Xtest, ytrain, ytest = train_test_split(X, y, test_size=0.1, random_state=42)"
   ]
  },
  {
   "cell_type": "code",
   "execution_count": 28,
   "id": "a29c6ac8",
   "metadata": {},
   "outputs": [],
   "source": [
    "N=42\n",
    "tol=0.03"
   ]
  },
  {
   "cell_type": "code",
   "execution_count": 29,
   "id": "0fd996aa",
   "metadata": {},
   "outputs": [],
   "source": [
    "def classify(X,N=42,tol=0.03):\n",
    "    pred=[]\n",
    "    \n",
    "    for vec in X:\n",
    "        switch=0\n",
    "        for n in range(1,N+1):\n",
    "            switch_line=[]\n",
    "            for x in vec:\n",
    "                x_scaled=x*n\n",
    "                if(abs(x_scaled-round(x_scaled,0))<tol):\n",
    "                    switch_line.append(True)\n",
    "            if(set(switch_line)=={True}):\n",
    "                switch=1\n",
    "        if(switch==0):\n",
    "            cl=1\n",
    "        else:\n",
    "            cl=0\n",
    "        pred.append(cl)\n",
    "        \n",
    "    return pred"
   ]
  },
  {
   "cell_type": "code",
   "execution_count": 30,
   "id": "a9a6008f",
   "metadata": {},
   "outputs": [
    {
     "name": "stdout",
     "output_type": "stream",
     "text": [
      "MOC:  0.30364054930973816\n"
     ]
    }
   ],
   "source": [
    "pred=classify(Xtrain,N=45,tol=0.001)\n",
    "print('MOC: ',matthews_corrcoef(pred,ytrain))"
   ]
  },
  {
   "cell_type": "code",
   "execution_count": 31,
   "id": "ac6f8675",
   "metadata": {},
   "outputs": [],
   "source": [
    "pred=classify(Xtest,N=45,tol=0.001)"
   ]
  },
  {
   "cell_type": "code",
   "execution_count": 32,
   "id": "364b4a06",
   "metadata": {},
   "outputs": [
    {
     "name": "stdout",
     "output_type": "stream",
     "text": [
      "acc:  0.5321552399060507\n",
      "MOC:  0.30725821328764336\n",
      "AUC:  0.7052332962215598\n",
      "F1-score:  0.3928001161271593\n"
     ]
    }
   ],
   "source": [
    "print('acc: ', accuracy_score(pred,ytest))\n",
    "print('MOC: ',matthews_corrcoef(pred,ytest))\n",
    "print('AUC: ', roc_auc_score(pred,ytest))\n",
    "print('F1-score: ', f1_score(pred,ytest))"
   ]
  },
  {
   "cell_type": "code",
   "execution_count": null,
   "id": "7686acff",
   "metadata": {},
   "outputs": [],
   "source": []
  },
  {
   "cell_type": "code",
   "execution_count": null,
   "id": "35439d4c",
   "metadata": {},
   "outputs": [],
   "source": []
  },
  {
   "cell_type": "code",
   "execution_count": null,
   "id": "83900d2b",
   "metadata": {},
   "outputs": [],
   "source": []
  },
  {
   "cell_type": "code",
   "execution_count": null,
   "id": "a7926d3f",
   "metadata": {},
   "outputs": [],
   "source": []
  },
  {
   "cell_type": "code",
   "execution_count": null,
   "id": "6574aab4",
   "metadata": {},
   "outputs": [],
   "source": []
  },
  {
   "cell_type": "code",
   "execution_count": null,
   "id": "4ac1bdc2",
   "metadata": {},
   "outputs": [],
   "source": []
  }
 ],
 "metadata": {
  "kernelspec": {
   "display_name": "Python 3 (ipykernel)",
   "language": "python",
   "name": "python3"
  },
  "language_info": {
   "codemirror_mode": {
    "name": "ipython",
    "version": 3
   },
   "file_extension": ".py",
   "mimetype": "text/x-python",
   "name": "python",
   "nbconvert_exporter": "python",
   "pygments_lexer": "ipython3",
   "version": "3.11.8"
  }
 },
 "nbformat": 4,
 "nbformat_minor": 5
}
