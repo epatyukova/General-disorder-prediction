{
 "cells": [
  {
   "cell_type": "code",
   "execution_count": 1,
   "id": "804762f7-50a0-4d8b-9056-06fc2954f488",
   "metadata": {},
   "outputs": [],
   "source": [
    "import numpy as np\n",
    "import pandas as pd\n",
    "from matminer.featurizers.composition import ElementProperty, Stoichiometry \n",
    "from matminer.featurizers.composition import ValenceOrbital, IonProperty, AtomicOrbitals\n",
    "from matplotlib import pyplot as plt\n",
    "from matminer.datasets import load_dataset\n",
    "from matminer.featurizers.base import MultipleFeaturizer\n",
    "\n",
    "from matminer.featurizers.conversions import DictToObject, StrToComposition\n",
    "from sklearn.ensemble import RandomForestRegressor,RandomForestClassifier\n",
    "from sklearn.model_selection import ShuffleSplit, train_test_split\n",
    "from sklearn.pipeline import Pipeline\n",
    "from sklearn.impute import SimpleImputer\n",
    "from scipy import stats\n",
    "from tqdm import tqdm_notebook as tqdm\n",
    "\n",
    "from pymatgen.core.composition import Composition"
   ]
  },
  {
   "cell_type": "markdown",
   "id": "69052db3-501c-47b7-bb8a-d7e9ac1d287f",
   "metadata": {},
   "source": [
    "## Loading data and featurizing compositions"
   ]
  },
  {
   "cell_type": "code",
   "execution_count": 2,
   "id": "d38a132a-cc61-4811-8d5b-a608477c5342",
   "metadata": {},
   "outputs": [
    {
     "data": {
      "text/html": [
       "<div>\n",
       "<style scoped>\n",
       "    .dataframe tbody tr th:only-of-type {\n",
       "        vertical-align: middle;\n",
       "    }\n",
       "\n",
       "    .dataframe tbody tr th {\n",
       "        vertical-align: top;\n",
       "    }\n",
       "\n",
       "    .dataframe thead th {\n",
       "        text-align: right;\n",
       "    }\n",
       "</style>\n",
       "<table border=\"1\" class=\"dataframe\">\n",
       "  <thead>\n",
       "    <tr style=\"text-align: right;\">\n",
       "      <th></th>\n",
       "      <th>formula</th>\n",
       "      <th>disorder</th>\n",
       "    </tr>\n",
       "  </thead>\n",
       "  <tbody>\n",
       "    <tr>\n",
       "      <th>0</th>\n",
       "      <td>Ce0.8 Cu2.38 Nd1.78 O10 Ru0.62 Sr1.42</td>\n",
       "      <td>1</td>\n",
       "    </tr>\n",
       "    <tr>\n",
       "      <th>1</th>\n",
       "      <td>Co3 Cu3 O12 Te2</td>\n",
       "      <td>1</td>\n",
       "    </tr>\n",
       "    <tr>\n",
       "      <th>2</th>\n",
       "      <td>H12 Mn1 N2 O10 S2</td>\n",
       "      <td>0</td>\n",
       "    </tr>\n",
       "    <tr>\n",
       "      <th>3</th>\n",
       "      <td>Ge13 Pr3 Pt4</td>\n",
       "      <td>0</td>\n",
       "    </tr>\n",
       "    <tr>\n",
       "      <th>4</th>\n",
       "      <td>Ni1 O4 Tc1 Zn1</td>\n",
       "      <td>1</td>\n",
       "    </tr>\n",
       "  </tbody>\n",
       "</table>\n",
       "</div>"
      ],
      "text/plain": [
       "                                 formula  disorder\n",
       "0  Ce0.8 Cu2.38 Nd1.78 O10 Ru0.62 Sr1.42         1\n",
       "1                        Co3 Cu3 O12 Te2         1\n",
       "2                      H12 Mn1 N2 O10 S2         0\n",
       "3                           Ge13 Pr3 Pt4         0\n",
       "4                         Ni1 O4 Tc1 Zn1         1"
      ]
     },
     "execution_count": 2,
     "metadata": {},
     "output_type": "execute_result"
    }
   ],
   "source": [
    "df_train=pd.read_csv('data/roost_data/train.csv',usecols=['formula', 'disorder'])\n",
    "df_test=pd.read_csv('data/roost_data/test.csv',usecols=['formula', 'disorder'])\n",
    "df_train.head(5)"
   ]
  },
  {
   "cell_type": "code",
   "execution_count": 3,
   "id": "f2c3fd64-6b22-40f4-8e38-ba2d62492fd8",
   "metadata": {},
   "outputs": [],
   "source": [
    "df_train['composition']=[Composition(df_train.iloc[i]['formula']).fractional_composition for i in range(len(df_train))]\n",
    "df_test['composition']=[Composition(df_test.iloc[i]['formula']).fractional_composition for i in range(len(df_test))]"
   ]
  },
  {
   "cell_type": "code",
   "execution_count": 4,
   "id": "31153eb8-3cef-4216-b537-ea1026f5bbcb",
   "metadata": {},
   "outputs": [
    {
     "name": "stderr",
     "output_type": "stream",
     "text": [
      "C:\\Users\\patykova\\.conda\\envs\\roost\\lib\\site-packages\\pymatgen\\core\\periodic_table.py:212: UserWarning: No electronegativity for Ar. Setting to NaN. This has no physical meaning, and is mainly done to avoid errors caused by the code expecting a float.\n",
      "  warnings.warn(\n"
     ]
    }
   ],
   "source": [
    "featurizer = MultipleFeaturizer([\n",
    "    ElementProperty.from_preset('magpie'),\n",
    "    Stoichiometry(),\n",
    "    ValenceOrbital()\n",
    "])\n",
    "flen=len(featurizer.featurize(df_train['composition'][0]))\n",
    "features_train=np.zeros((len(df_train),flen))\n",
    "features_test=np.zeros((len(df_test),flen))\n",
    "for i,comp in enumerate(df_train['composition']):\n",
    "    features_train[i,:]=featurizer.featurize(comp)\n",
    "for i,comp in enumerate(df_test['composition']):\n",
    "    features_test[i,:]=featurizer.featurize(comp)\n",
    "features_train=np.nan_to_num(features_train, copy=True, nan=0.0, posinf=None, neginf=None)\n",
    "features_test=np.nan_to_num(features_test, copy=True, nan=0.0, posinf=None, neginf=None)"
   ]
  },
  {
   "cell_type": "code",
   "execution_count": 8,
   "id": "2ab0e96a-8008-48a1-a55b-88c975d94933",
   "metadata": {},
   "outputs": [],
   "source": [
    "ytrain=df_train['disorder'].values\n",
    "ytest=df_test['disorder'].values\n",
    "Xtrain=features_train\n",
    "Xtest=features_test"
   ]
  },
  {
   "cell_type": "code",
   "execution_count": 9,
   "id": "c6c431e6-faf4-4a13-adcd-bf06dbf33b7d",
   "metadata": {},
   "outputs": [],
   "source": [
    "from sklearn.metrics import f1_score,balanced_accuracy_score, accuracy_score, roc_auc_score, matthews_corrcoef\n",
    "from sklearn.metrics import precision_score, recall_score, confusion_matrix, ConfusionMatrixDisplay\n",
    "\n",
    "balanced_accuracy=[]\n",
    "f1=[]\n",
    "precision=[]\n",
    "recall=[]\n",
    "roc_auc=[]\n",
    "mc=[]\n",
    "test_size=0.2\n",
    "y_pred_array=np.zeros((10,len(df_test)))\n",
    "y_score_array=np.zeros((10,len(df_test)))\n",
    "\n",
    "for i in range(42,42+10):\n",
    "    RF=RandomForestClassifier()\n",
    "    RF.fit(Xtrain,ytrain)\n",
    "    ypred=RF.predict(Xtest)\n",
    "    yproba=RF.predict_proba(Xtest)[:,1]\n",
    "    y_pred_array[i-42,:]=ypred\n",
    "    y_score_array[i-42,:]=yproba\n",
    "    f1.append(f1_score(ytest,ypred))\n",
    "    precision.append(precision_score(ytest,ypred))\n",
    "    recall.append(precision_score(ytest,ypred))\n",
    "    roc_auc.append(roc_auc_score(ytest,yproba))\n",
    "    balanced_accuracy.append(balanced_accuracy_score(ytest,ypred))\n",
    "    mc.append(matthews_corrcoef(ytest,ypred))"
   ]
  },
  {
   "cell_type": "code",
   "execution_count": 61,
   "id": "0e918adc-b6e6-4dea-8952-4f3e754fc6b3",
   "metadata": {},
   "outputs": [
    {
     "data": {
      "text/plain": [
       "(0.8940420489541415, 0.002422073812458716)"
      ]
     },
     "execution_count": 61,
     "metadata": {},
     "output_type": "execute_result"
    }
   ],
   "source": [
    "mean_f1=np.mean(f1)\n",
    "std_f1=np.std(f1)\n",
    "mean_f1, std_f1"
   ]
  },
  {
   "cell_type": "code",
   "execution_count": 63,
   "id": "3a3873eb-21de-4d72-8b7e-c5a561cc0cf8",
   "metadata": {},
   "outputs": [
    {
     "data": {
      "text/plain": [
       "(0.8979366543308489, 0.003379930847316524)"
      ]
     },
     "execution_count": 63,
     "metadata": {},
     "output_type": "execute_result"
    }
   ],
   "source": [
    "mean_precision=np.mean(precision)\n",
    "std_precision=np.std(precision)\n",
    "mean_precision, std_precision"
   ]
  },
  {
   "cell_type": "code",
   "execution_count": 64,
   "id": "e082a635-8d99-45da-a7e1-2daaf10e89e8",
   "metadata": {},
   "outputs": [
    {
     "data": {
      "text/plain": [
       "(0.8979366543308489, 0.003379930847316524)"
      ]
     },
     "execution_count": 64,
     "metadata": {},
     "output_type": "execute_result"
    }
   ],
   "source": [
    "mean_recall=np.mean(recall)\n",
    "std_recall=np.std(recall)\n",
    "mean_recall, std_recall"
   ]
  },
  {
   "cell_type": "code",
   "execution_count": 65,
   "id": "7259f5ac-c58b-42c2-9ce8-0e910f2d8373",
   "metadata": {},
   "outputs": [
    {
     "data": {
      "text/plain": [
       "(0.9423912601567404, 0.0014121001339331672)"
      ]
     },
     "execution_count": 65,
     "metadata": {},
     "output_type": "execute_result"
    }
   ],
   "source": [
    "mean_auc=np.mean(roc_auc)\n",
    "std_auc=np.std(roc_auc)\n",
    "mean_auc, std_auc"
   ]
  },
  {
   "cell_type": "code",
   "execution_count": 66,
   "id": "93881e3c-424c-46a7-bf82-bfcf9365f5a9",
   "metadata": {},
   "outputs": [
    {
     "data": {
      "text/plain": [
       "(0.8684406813879516, 0.0027268939296209325)"
      ]
     },
     "execution_count": 66,
     "metadata": {},
     "output_type": "execute_result"
    }
   ],
   "source": [
    "mean_ba=np.mean(balanced_accuracy)\n",
    "std_ba=np.std(balanced_accuracy)\n",
    "mean_ba, std_ba"
   ]
  },
  {
   "cell_type": "code",
   "execution_count": 67,
   "id": "5e960be4-4921-4cb2-aad9-59ae538f158e",
   "metadata": {},
   "outputs": [
    {
     "data": {
      "text/plain": [
       "(0.7352973420247746, 0.005143997740694817)"
      ]
     },
     "execution_count": 67,
     "metadata": {},
     "output_type": "execute_result"
    }
   ],
   "source": [
    "mean_mc=np.mean(mc)\n",
    "std_mc=np.std(mc)\n",
    "mean_mc, std_mc"
   ]
  },
  {
   "cell_type": "code",
   "execution_count": null,
   "id": "323fef1f-c78d-4278-b410-090e1bb4b8fd",
   "metadata": {},
   "outputs": [],
   "source": []
  },
  {
   "cell_type": "code",
   "execution_count": 62,
   "id": "d7e02fe6-baa0-4482-b146-ac93103e9063",
   "metadata": {},
   "outputs": [
    {
     "data": {
      "image/png": "[encoded data removed]",
      "text/plain": [
       "<Figure size 640x480 with 2 Axes>"
      ]
     },
     "metadata": {},
     "output_type": "display_data"
    }
   ],
   "source": [
    "cfm=confusion_matrix(ytest,ypred)\n",
    "disp=ConfusionMatrixDisplay(cfm)\n",
    "disp.plot()\n",
    "plt.show()"
   ]
  },
  {
   "cell_type": "code",
   "execution_count": 68,
   "id": "0a979957-debb-4b30-8fbe-88fc1222d111",
   "metadata": {},
   "outputs": [
    {
     "data": {
      "text/plain": [
       "array([[ 7074,  1206],\n",
       "       [ 1378, 11201]])"
      ]
     },
     "execution_count": 68,
     "metadata": {},
     "output_type": "execute_result"
    }
   ],
   "source": [
    "cfm"
   ]
  },
  {
   "cell_type": "code",
   "execution_count": null,
   "id": "02c9a5ff-eb13-4c62-bed4-0b80e3e07597",
   "metadata": {},
   "outputs": [],
   "source": []
  }
 ],
 "metadata": {
  "kernelspec": {
   "display_name": "Python 3 (ipykernel)",
   "language": "python",
   "name": "python3"
  },
  "language_info": {
   "codemirror_mode": {
    "name": "ipython",
    "version": 3
   },
   "file_extension": ".py",
   "mimetype": "text/x-python",
   "name": "python",
   "nbconvert_exporter": "python",
   "pygments_lexer": "ipython3",
   "version": "3.9.19"
  }
 },
 "nbformat": 4,
 "nbformat_minor": 5
}
