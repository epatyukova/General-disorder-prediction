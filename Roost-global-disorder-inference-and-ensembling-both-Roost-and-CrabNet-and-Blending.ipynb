{
 "cells": [
  {
   "cell_type": "code",
   "execution_count": 1,
   "metadata": {},
   "outputs": [],
   "source": [
    "import numpy as np\n",
    "import pandas as pd\n",
    "from pymatgen.core.composition import Composition\n",
    "\n",
    "import torch\n",
    "import torch.nn as nn\n",
    "import os\n",
    "import re\n",
    "import json\n",
    "import pytorch_lightning as L\n",
    "import wandb\n",
    "\n",
    "from pytorch_lightning.loggers import WandbLogger\n",
    "from pytorch_lightning.callbacks import ModelCheckpoint, StochasticWeightAveraging\n",
    "from pytorch_lightning.callbacks import LearningRateMonitor\n",
    "from pytorch_lightning.callbacks.early_stopping import EarlyStopping\n",
    "from pytorch_lightning import Trainer\n",
    "\n",
    "from torch_geometric.data import Data\n",
    "from torch_geometric.loader import DataLoader as Dataloader_PIG\n",
    "\n",
    "from torch.optim import AdamW\n",
    "from torch.optim.lr_scheduler import CyclicLR, CosineAnnealingLR, StepLR\n",
    "from torch.nn import CrossEntropyLoss, L1Loss, MSELoss, ReLU, NLLLoss\n",
    "from sklearn.model_selection import train_test_split\n",
    "from sklearn.utils.class_weight import compute_class_weight\n",
    "from sklearn.metrics import f1_score, balanced_accuracy_score, accuracy_score, roc_auc_score, matthews_corrcoef\n",
    "from sklearn.metrics import precision_score, recall_score, confusion_matrix, ConfusionMatrixDisplay\n",
    "from sklearn.metrics import mean_squared_error, mean_absolute_error,r2_score\n",
    "\n",
    "from roost.Data import data_from_composition_general\n",
    "from roost.Model import Roost\n",
    "from roost.utils import count_parameters, Scaler, DummyScaler, BCEWithLogitsLoss, Lamb, Lookahead, get_compute_device\n",
    "\n",
    "from torch_geometric.utils import to_networkx\n",
    "import networkx as nx\n",
    "import matplotlib.pyplot as plt\n",
    "\n",
    "data_type_np = np.float32\n",
    "data_type_torch = torch.float32\n",
    "device=get_compute_device()\n",
    "\n",
    "\n",
    "class RoostDataModule(L.LightningDataModule):\n",
    "    def __init__(self, train_file: str , \n",
    "                 val_file: str, \n",
    "                 test_file: str, \n",
    "                 batch_size = 256,\n",
    "                 features='onehot',\n",
    "                 predictset='test'):\n",
    "        super().__init__()\n",
    "        self.train_path = train_file\n",
    "        self.val_path = val_file\n",
    "        self.test_path = test_file\n",
    "        self.batch_size = batch_size\n",
    "        self.features=features\n",
    "        self.predictset=predictset\n",
    "\n",
    "    def prepare_data(self):\n",
    "        path='data/el-embeddings/'\n",
    "        if(self.features == 'onehot'):\n",
    "            with open(path+'onehot-embedding.json',\"r\") as f:\n",
    "                elem_features=json.load(f)\n",
    "        elif(self.features == 'matscholar'):\n",
    "            with open(path+'matscholar-embedding.json',\"r\") as f:\n",
    "                elem_features=json.load(f)\n",
    "        elif(self.features == 'mat2vec'):\n",
    "            with open(path+'mat2vec.json',\"r\") as f:\n",
    "                elem_features=json.load(f)\n",
    "        elif(self.features == 'cgcnn'):\n",
    "            with open(path+'cgcnn-embedding.json',\"r\") as f:\n",
    "                elem_features=json.load(f)\n",
    "        \n",
    "        ### loading and encoding trianing data\n",
    "        if(re.search('.json', self.train_path )):\n",
    "            self.data_train=pd.read_json(self.train_path)\n",
    "        elif(re.search('.csv', self.train_path)):\n",
    "            self.data_train=pd.read_csv(self.train_path)\n",
    "\n",
    "        self.train_dataset = data_from_composition_general(self.data_train,elem_features)\n",
    "        self.train_len = len(self.train_dataset)\n",
    "        \n",
    "        ### loading and encoding validation data\n",
    "        if(re.search('.json', self.val_path )):\n",
    "            self.data_val=pd.read_json(self.val_path)\n",
    "        elif(re.search('.csv', self.val_path)):\n",
    "            self.data_val=pd.read_csv(self.val_path)\n",
    "        \n",
    "        self.val_dataset = data_from_composition_general(self.data_val,elem_features)\n",
    "        self.val_len = len(self.val_dataset)\n",
    "\n",
    "        ### loading and encoding testing data\n",
    "        if(re.search('.json', self.test_path )):\n",
    "            self.data_test=pd.read_json(self.test_path)\n",
    "        elif(re.search('.csv', self.test_path)):\n",
    "            self.data_test=pd.read_csv(self.test_path)\n",
    "        \n",
    "        self.test_dataset = data_from_composition_general(self.data_test,elem_features)\n",
    "        self.test_len = len(self.test_dataset)\n",
    "\n",
    "    def train_dataloader(self):\n",
    "        return Dataloader_PIG(self.train_dataset, batch_size=self.batch_size, shuffle=True)\n",
    "\n",
    "    def val_dataloader(self):\n",
    "        return Dataloader_PIG(self.val_dataset, batch_size=self.batch_size, shuffle=False)\n",
    "\n",
    "    def test_dataloader(self):\n",
    "        return Dataloader_PIG(self.test_dataset, batch_size=self.test_len, shuffle=False)\n",
    "    \n",
    "    def predict_dataloader(self):\n",
    "        if(self.predictset=='test'):\n",
    "            return Dataloader_PIG(self.test_dataset, batch_size=self.test_len, shuffle=False)\n",
    "        elif(self.predictset=='val'):\n",
    "            return Dataloader_PIG(self.val_dataset, batch_size=self.val_len, shuffle=False)\n",
    "    \n",
    "\n",
    "class RoostLightningClass(L.LightningModule):\n",
    "    def __init__(self, **config):\n",
    "        super().__init__()\n",
    "        # Saving hyperparameters\n",
    "        self.save_hyperparameters()\n",
    "        self.batch_size=config['data_params']['batch_size']\n",
    "        self.out_dims=config['model_params']['output_dim']\n",
    "        self.n_graphs=config['model_params']['n_graphs']\n",
    "        self.comp_heads=config['model_params']['comp_heads']\n",
    "        self.internal_elem_dim=config['model_params']['internal_elem_dim']\n",
    "        self.setup=config['setup_params']\n",
    "        self.model = Roost(**config['model_params'])\n",
    "        self.classification = config['classification']\n",
    "        self.loss_name = config['setup_params']['loss']\n",
    "        # maybe need to do it, to unify Roost and CrabNet\n",
    "        print('\\n Model architecture: out_dims, n_graphs, heads, internal_elem_dim')\n",
    "        print(f'{self.out_dims}, {self.n_graphs}, '\n",
    "                  f'{self.comp_heads}, {self.internal_elem_dim}')\n",
    "        print(f'Model size: {count_parameters(self.model)} parameters\\n')\n",
    "        if(config['classification']==True):\n",
    "            if(config['setup_params']['loss'] == 'BCEWithLogitsLoss'):\n",
    "                self.criterion = BCEWithLogitsLoss\n",
    "            if(config['setup_params']['loss'] == 'CrossEntropyLoss'):\n",
    "                self.criterion = nn.functional.cross_entropy\n",
    "            if(re.search('.json', config['data_params']['train_path'])):\n",
    "                train_data = pd.read_json(config['data_params']['train_path'])\n",
    "            elif(re.search('.csv', config['data_params']['train_path'])):\n",
    "                train_data = pd.read_csv(config['data_params']['train_path'])\n",
    "            y = train_data['disorder'].values\n",
    "            self.step_size = len(y)\n",
    "            if(config['model_params']['output_dim']>1):\n",
    "                classes = np.linspace(0,config['model_params']['output_dim']-1,config['model_params']['output_dim'],dtype=int)\n",
    "            else:\n",
    "                classes=np.array([0,1],dtype=int)\n",
    "            set_classes=set(classes)\n",
    "            y_classes = set(np.unique(y))\n",
    "            if(set_classes.issubset(y_classes)):\n",
    "                self.weight = torch.tensor(compute_class_weight(class_weight=\"balanced\", classes=classes, y=y), dtype=data_type_torch).to(device)\n",
    "            else:\n",
    "                self.weight = torch.ones(len(classes), dtype=data_type_torch).to(device)\n",
    "            if(self.loss_name == 'BCEWithLogitsLoss'):\n",
    "                self.weight=self.weight[1]\n",
    "    \n",
    "        elif(config['classification']==False):\n",
    "            self.criterion = L1Loss()\n",
    "            if(re.search('.json', config['data_params']['train_path'] )):\n",
    "                train_data=pd.read_json(config['data_params']['train_path'])\n",
    "            elif(re.search('.csv', config['data_params']['train_path'])):\n",
    "                train_data=pd.read_csv(config['data_params']['train_path'])\n",
    "            y=train_data['disorder'].values\n",
    "            self.step_size = len(y)\n",
    "            self.scaler=Scaler(y)\n",
    "        \n",
    "    def forward(self, batch):\n",
    "        out = self.model(batch.x, batch.edge_index, batch.pos, batch.batch)\n",
    "        return out\n",
    "\n",
    "    def configure_optimizers(self):\n",
    "        if(self.setup['optim'] == 'AdamW'):\n",
    "        # We use AdamW optimizer with MultistepLR scheduler as in the original Roost model\n",
    "            optimizer = torch.optim.AdamW(self.parameters(),lr=self.setup['learning_rate'], \n",
    "                                        weight_decay=self.setup['weight_decay']) \n",
    "            scheduler = torch.optim.lr_scheduler.MultiStepLR(optimizer, milestones=[], gamma=self.setup['gamma'])\n",
    "\n",
    "        elif(self.setup['optim'] == 'Lamb'):\n",
    "            base_optim = Lamb(params=self.model.parameters(),lr=0.001)\n",
    "            optimizer = Lookahead(base_optimizer=base_optim)\n",
    "            scheduler = CyclicLR(optimizer,\n",
    "                                base_lr=self.setup['base_lr'],\n",
    "                                max_lr=self.setup['max_lr'],\n",
    "                                cycle_momentum=False,\n",
    "                                step_size_up=self.step_size)\n",
    "\n",
    "        return [optimizer], [scheduler]\n",
    "    \n",
    "    def training_step(self, batch, batch_idx):\n",
    "        logits=self(batch)\n",
    "        if(self.classification == True):\n",
    "            if(self.loss_name == 'BCEWithLogitsLoss'):\n",
    "                loss=self.criterion(logits, batch.y,self.weight)\n",
    "                prediction = torch.sigmoid(logits)\n",
    "                y_pred = prediction.detach().cpu().numpy() > 0.5\n",
    "            elif(self.loss_name == 'CrossEntropyLoss'):\n",
    "                loss=self.criterion(logits, batch.y.long(),self.weight)\n",
    "                prediction = torch.nn.functional.softmax(logits,dim=1)\n",
    "                y_pred = torch.argmax(prediction,dim=1).detach().cpu().numpy()\n",
    "            acc=balanced_accuracy_score(batch.y.detach().cpu().numpy(),y_pred)\n",
    "            f1=f1_score(batch.y.detach().cpu().numpy(),y_pred,average='weighted')\n",
    "            mc=matthews_corrcoef(batch.y.detach().cpu().numpy(),y_pred)\n",
    "\n",
    "            self.log(\"train_acc\", acc, on_step=False, on_epoch=True, prog_bar=True, logger=True, batch_size=self.batch_size)\n",
    "            self.log(\"train_f1\", f1, on_step=False, on_epoch=True, prog_bar=False, logger=True, batch_size=self.batch_size)\n",
    "            self.log(\"train_mc\", mc, on_step=False, on_epoch=True, prog_bar=False, logger=True, batch_size=self.batch_size)\n",
    "        elif(self.classification == False):\n",
    "            y=self.scaler.scale(batch.y)\n",
    "            loss=self.criterion(logits, y)\n",
    "            y=self.scaler.unscale(y)\n",
    "            prediction=self.scaler.unscale(logits)\n",
    "\n",
    "            mse = mean_squared_error(y.detach().cpu().numpy(), prediction.detach().cpu().numpy())\n",
    "            mae = mean_absolute_error(y.detach().cpu().numpy(), prediction.detach().cpu().numpy())\n",
    "            self.log(\"train_mse\", mse, on_step=False, on_epoch=True, prog_bar=False, logger=True, batch_size=self.batch_size)\n",
    "            self.log(\"train_mae\", mae, on_step=False, on_epoch=True, prog_bar=False, logger=True, batch_size=self.batch_size)\n",
    "\n",
    "        self.log(\"train_loss\", loss, on_step=False, on_epoch=True, prog_bar=True, logger=True, batch_size=self.batch_size)\n",
    "        return loss\n",
    "    \n",
    "    def validation_step(self, batch, batch_idx):\n",
    "        logits=self(batch)\n",
    "        if(self.classification == True):\n",
    "            if(self.loss_name == 'BCEWithLogitsLoss'):\n",
    "                loss=self.criterion(logits, batch.y,self.weight)\n",
    "                prediction = torch.sigmoid(logits)\n",
    "                y_pred = prediction.detach().cpu().numpy() > 0.5\n",
    "            elif(self.loss_name == 'CrossEntropyLoss'):\n",
    "                loss=self.criterion(logits, batch.y.long(),self.weight)\n",
    "                prediction = torch.nn.functional.softmax(logits,dim=1)\n",
    "                y_pred = torch.argmax(prediction,dim=1).detach().cpu().numpy()\n",
    "\n",
    "            acc=balanced_accuracy_score(batch.y.detach().cpu().numpy(),y_pred)\n",
    "            f1=f1_score(batch.y.detach().cpu().numpy(),y_pred,average='weighted')\n",
    "            mc=matthews_corrcoef(batch.y.detach().cpu().numpy(),y_pred)\n",
    "\n",
    "            self.log(\"val_acc\", acc, on_step=False, on_epoch=True, prog_bar=True, logger=True, batch_size=self.batch_size)\n",
    "            self.log(\"val_f1\", f1, on_step=False, on_epoch=True, prog_bar=False, logger=True, batch_size=self.batch_size)\n",
    "            self.log(\"val_mc\", mc, on_step=False, on_epoch=True, prog_bar=False, logger=True, batch_size=self.batch_size)\n",
    "        elif(self.classification == False):\n",
    "            y=self.scaler.scale(batch.y)\n",
    "            loss=self.criterion(logits, y)\n",
    "            y=self.scaler.unscale(y)\n",
    "            prediction=self.scaler.unscale(logits)\n",
    "\n",
    "            mse = mean_squared_error(y.detach().cpu().numpy(), prediction.detach().cpu().numpy())\n",
    "            mae = mean_absolute_error(y.detach().cpu().numpy(), prediction.detach().cpu().numpy())\n",
    "            self.log(\"val_mse\", mse, on_step=False, on_epoch=True, prog_bar=False, logger=True, batch_size=self.batch_size)\n",
    "            self.log(\"val_mae\", mae, on_step=False, on_epoch=True, prog_bar=False, logger=True, batch_size=self.batch_size)\n",
    "\n",
    "        self.log(\"val_loss\", loss, on_step=False, on_epoch=True, prog_bar=True, logger=True, batch_size=self.batch_size)\n",
    "        return loss\n",
    "    \n",
    "    def test_step(self, batch, batch_idx):\n",
    "        logits=self(batch)\n",
    "        if(self.classification == True):\n",
    "            if(self.loss_name == 'BCEWithLogitsLoss'):\n",
    "                loss=self.criterion(logits, batch.y,self.weight)\n",
    "                prediction = torch.sigmoid(logits)\n",
    "                y_pred = prediction.detach().cpu().numpy() > 0.5\n",
    "            elif(self.loss_name == 'CrossEntropyLoss'):\n",
    "                loss=self.criterion(logits, batch.y.long(),self.weight)\n",
    "                prediction = torch.nn.functional.softmax(logits,dim=1)\n",
    "                y_pred = torch.argmax(prediction,dim=1).detach().cpu().numpy()\n",
    "\n",
    "            acc=balanced_accuracy_score(batch.y.detach().cpu().numpy(),y_pred)\n",
    "            f1=f1_score(batch.y.detach().cpu().numpy(),y_pred,average='weighted')\n",
    "            mc=matthews_corrcoef(batch.y.detach().cpu().numpy(),y_pred)\n",
    "\n",
    "            self.log(\"test_acc\", acc, on_step=False, on_epoch=True, prog_bar=True, logger=True, batch_size=self.batch_size)\n",
    "            self.log(\"test_f1\", f1, on_step=False, on_epoch=True, prog_bar=False, logger=True, batch_size=self.batch_size)\n",
    "            self.log(\"test_mc\", mc, on_step=False, on_epoch=True, prog_bar=False, logger=True, batch_size=self.batch_size)\n",
    "\n",
    "        elif(self.classification == False):\n",
    "            y=self.scaler.scale(batch.y)\n",
    "            loss=self.criterion(logits, y)\n",
    "            y=self.scaler.unscale(y)\n",
    "            prediction=self.scaler.unscale(logits)\n",
    "\n",
    "            mse = mean_squared_error(y.detach().cpu().numpy(), prediction.detach().cpu().numpy())\n",
    "            mae = mean_absolute_error(y.detach().cpu().numpy(), prediction.detach().cpu().numpy())\n",
    "            self.log(\"test_mse\", mse, on_step=False, on_epoch=True, prog_bar=False, logger=True, batch_size=self.batch_size)\n",
    "            self.log(\"test_mae\", mae, on_step=False, on_epoch=True, prog_bar=False, logger=True, batch_size=self.batch_size)\n",
    "        self.log(\"test_loss\", loss, on_step=False, on_epoch=True, prog_bar=True, logger=True, batch_size=self.batch_size)\n",
    "        return loss\n",
    "    \n",
    "    def predict_step(self, batch, batch_idx, dataloader_idx=0):\n",
    "        logits=self(batch)\n",
    "        if(self.classification == True):\n",
    "            if(self.loss_name == 'BCEWithLogitsLoss'):\n",
    "                prediction = torch.sigmoid(logits)\n",
    "                y_pred = prediction.detach().cpu().numpy() > 0.5\n",
    "            elif(self.loss_name == 'CrossEntropyLoss'):\n",
    "                prediction = torch.nn.functional.softmax(logits,dim=1)\n",
    "                y_pred = torch.argmax(prediction,dim=1).detach().cpu().numpy()\n",
    "            return batch.y.view(-1).detach().cpu().numpy(), prediction, y_pred\n",
    "        elif(self.classification == False):\n",
    "            prediction=self.scaler.unscale(logits)\n",
    "            return batch.y.view(-1).detach().cpu().numpy(), prediction"
   ]
  },
  {
   "cell_type": "code",
   "execution_count": 151,
   "metadata": {},
   "outputs": [
    {
     "name": "stderr",
     "output_type": "stream",
     "text": [
      "Global seed set to 30\n"
     ]
    },
    {
     "name": "stdout",
     "output_type": "stream",
     "text": [
      "\n",
      " Model architecture: out_dims, n_graphs, heads, internal_elem_dim\n",
      "1, 3, 3, 64\n",
      "Model size: 2426169 parameters\n",
      "\n",
      "\n",
      " Model architecture: out_dims, n_graphs, heads, internal_elem_dim\n",
      "1, 3, 3, 64\n",
      "Model size: 2426169 parameters\n",
      "\n",
      "\n",
      " Model architecture: out_dims, n_graphs, heads, internal_elem_dim\n",
      "1, 3, 3, 64\n",
      "Model size: 2426169 parameters\n",
      "\n",
      "\n",
      " Model architecture: out_dims, n_graphs, heads, internal_elem_dim\n",
      "1, 3, 3, 64\n",
      "Model size: 2426169 parameters\n",
      "\n",
      "\n",
      " Model architecture: out_dims, n_graphs, heads, internal_elem_dim\n",
      "1, 3, 3, 64\n",
      "Model size: 2426169 parameters\n",
      "\n",
      "\n",
      " Model architecture: out_dims, n_graphs, heads, internal_elem_dim\n",
      "1, 3, 3, 64\n",
      "Model size: 2426169 parameters\n",
      "\n",
      "\n",
      " Model architecture: out_dims, n_graphs, heads, internal_elem_dim\n",
      "1, 3, 3, 64\n",
      "Model size: 2426169 parameters\n",
      "\n"
     ]
    }
   ],
   "source": [
    "with open('roost/roost_config.json','r') as f:\n",
    "    config=json.load(f)\n",
    "\n",
    "L.seed_everything(config['seed'])\n",
    "\n",
    "disorder_data = RoostDataModule(config['data_params']['train_path'],\n",
    "                                   config['data_params']['val_path'],\n",
    "                                   config['data_params']['test_path'], features=config['data_params']['embed'])\n",
    "disorder_data.prepare_data()\n",
    "predictloader=disorder_data.predict_dataloader()\n",
    "for x in predictloader:\n",
    "    datalength=len(x.y)\n",
    "\n",
    "prediction_roost=np.zeros((10,datalength))\n",
    "\n",
    "for i in range(10):\n",
    "    name='roost-disorder-'+str(i)\n",
    "    model = RoostLightningClass.load_from_checkpoint('roost_models/roost_trained_models/'+name+'.ckpt')\n",
    "    model.eval()\n",
    "    for x in predictloader:\n",
    "        with torch.no_grad():\n",
    "            logits = model(x)\n",
    "            pred = torch.sigmoid(logits)\n",
    "            prediction_roost[i,:]=pred.detach().cpu().numpy()"
   ]
  },
  {
   "cell_type": "code",
   "execution_count": null,
   "metadata": {},
   "outputs": [],
   "source": [
    "y_pred_proba_roost=np.mean(prediction,axis=0)\n",
    "y_pred_roost = y_pred_proba_roost > 0.5"
   ]
  },
  {
   "cell_type": "code",
   "execution_count": 2,
   "metadata": {},
   "outputs": [],
   "source": [
    "import numpy as np\n",
    "import pandas as pd\n",
    "import collections\n",
    "from collections import OrderedDict\n",
    "import pytorch_lightning as L\n",
    "import os\n",
    "import re\n",
    "import json\n",
    "import tqdm\n",
    "\n",
    "from sklearn.metrics import balanced_accuracy_score, accuracy_score, roc_auc_score, f1_score, precision_score\n",
    "from sklearn.metrics import mean_absolute_error, mean_squared_error, matthews_corrcoef, recall_score\n",
    "from sklearn.ensemble import RandomForestClassifier\n",
    "from sklearn.model_selection import StratifiedKFold, train_test_split\n",
    "\n",
    "from pytorch_lightning.loggers.csv_logs import CSVLogger\n",
    "from pytorch_lightning.loggers import WandbLogger\n",
    "from pytorch_lightning.callbacks import ModelCheckpoint, StochasticWeightAveraging\n",
    "# from pytorch_lightning.loggers.wandb import WandbLogger\n",
    "from pytorch_lightning.callbacks.early_stopping import EarlyStopping\n",
    "from pytorch_lightning import Trainer\n",
    "from torchmetrics.functional import mean_squared_error, mean_absolute_error\n",
    "\n",
    "from pymatgen.core.composition import Composition\n",
    "from crabnet.kingcrab import CrabNet\n",
    "\n",
    "import torch\n",
    "from torch.utils.data import DataLoader\n",
    "from torch.optim.lr_scheduler import CyclicLR, CosineAnnealingLR, StepLR\n",
    "\n",
    "from crabnet.utils.utils import (Lamb, Lookahead, RobustL1, BCEWithLogitsLoss,\n",
    "                         EDMDataset, get_edm, Scaler, DummyScaler, count_parameters)\n",
    "from crabnet.utils.get_compute_device import get_compute_device\n",
    "# from crabnet.utils.composition import _element_composition, get_sym_dict, parse_formula, CompositionError\n",
    "#from utils.optim import SWA\n",
    "\n",
    "data_type_np = np.float32\n",
    "data_type_torch = torch.float32\n",
    "\n",
    "import wandb\n",
    "\n",
    "\n",
    "class CrabNetDataModule(L.LightningDataModule):\n",
    "    def __init__(self, train_file: str , \n",
    "                 val_file: str, \n",
    "                 test_file: str,\n",
    "                 n_elements ='infer', \n",
    "                 classification = False,\n",
    "                 elem_prop='mat2vec',\n",
    "                 batch_size = 2**10,\n",
    "                 scale = True,\n",
    "                 pin_memory = True,\n",
    "                 predictset='test'):\n",
    "        super().__init__()\n",
    "        self.train_path = train_file\n",
    "        self.val_path = val_file\n",
    "        self.test_path = test_file\n",
    "        self.batch_size = batch_size\n",
    "        self.n_elements=n_elements\n",
    "        self.pin_memory = pin_memory\n",
    "        self.scale = scale\n",
    "        self.classification = classification\n",
    "        self.elem_prop=elem_prop\n",
    "        self.predictset=predictset\n",
    "\n",
    "    def prepare_data(self):\n",
    "        ### loading and encoding trianing data\n",
    "        if(re.search('.json', self.train_path )):\n",
    "            self.data_train=pd.read_json(self.train_path)\n",
    "        elif(re.search('.csv', self.train_path)):\n",
    "            self.data_train=pd.read_csv(self.train_path)\n",
    "\n",
    "        self.train_main_data = list(get_edm(self.data_train, elem_prop=self.elem_prop,\n",
    "                                      n_elements=self.n_elements,\n",
    "                                      inference=False,\n",
    "                                      verbose=True,\n",
    "                                      drop_unary=False,\n",
    "                                      scale=self.scale))\n",
    "        \n",
    "        self.train_len_data = len(self.train_main_data[0])\n",
    "        self.train_n_elements = self.train_main_data[0].shape[1]//2\n",
    "\n",
    "        print(f'loading data with up to {self.train_n_elements:0.0f} '\n",
    "              f'elements in the formula for training')\n",
    "        \n",
    "        ### loading and encoding validation data\n",
    "        if(re.search('.json', self.val_path )):\n",
    "            self.data_val=pd.read_json(self.val_path)\n",
    "        elif(re.search('.csv', self.val_path)):\n",
    "            self.data_val=pd.read_csv(self.val_path)\n",
    "        \n",
    "        self.val_main_data = list(get_edm(self.data_val, elem_prop=self.elem_prop,\n",
    "                                      n_elements=self.n_elements,\n",
    "                                      inference=True,\n",
    "                                      verbose=True,\n",
    "                                      drop_unary=False,\n",
    "                                      scale=self.scale))\n",
    "        \n",
    "        self.val_len_data = len(self.val_main_data[0])\n",
    "        self.val_n_elements = self.val_main_data[0].shape[1]//2\n",
    "\n",
    "        print(f'loading data with up to {self.val_n_elements:0.0f} '\n",
    "              f'elements in the formula for validation')\n",
    "        \n",
    "        ### loading and encoding testing data\n",
    "        if(re.search('.json', self.test_path )):\n",
    "            self.data_test=pd.read_json(self.test_path)\n",
    "        elif(re.search('.csv', self.test_path)):\n",
    "            self.data_test=pd.read_csv(self.test_path)\n",
    "        \n",
    "        self.test_main_data = list(get_edm(self.data_test, elem_prop=self.elem_prop,\n",
    "                                      n_elements=self.n_elements,\n",
    "                                      inference=True,\n",
    "                                      verbose=True,\n",
    "                                      drop_unary=False,\n",
    "                                      scale=self.scale))\n",
    "        \n",
    "        self.test_len_data = len(self.test_main_data[0])\n",
    "        self.test_n_elements = self.test_main_data[0].shape[1]//2\n",
    "\n",
    "        print(f'loading data with up to {self.test_n_elements:0.0f} '\n",
    "              f'elements in the formula for testing')\n",
    "\n",
    "        self.train_dataset = EDMDataset(self.train_main_data, self.train_n_elements)\n",
    "        self.val_dataset = EDMDataset(self.val_main_data, self.val_n_elements)\n",
    "        self.test_dataset = EDMDataset(self.test_main_data, self.test_n_elements)\n",
    "\n",
    "    def train_dataloader(self):\n",
    "        return DataLoader(self.train_dataset, batch_size=self.batch_size,\n",
    "                          pin_memory=self.pin_memory, shuffle=True)\n",
    "    def val_dataloader(self):\n",
    "        return DataLoader(self.val_dataset, batch_size=self.batch_size,\n",
    "                        pin_memory=self.pin_memory, shuffle=False)\n",
    "    def test_dataloader(self):\n",
    "        return DataLoader(self.test_dataset, batch_size=self.test_len_data,\n",
    "                        pin_memory=self.pin_memory, shuffle=False)\n",
    "    def predict_dataloader(self):\n",
    "        if(self.predictset=='test'):\n",
    "            return DataLoader(self.test_dataset, batch_size=self.test_len_data,\n",
    "                        pin_memory=self.pin_memory, shuffle=False)\n",
    "        elif(self.predictset=='val'):\n",
    "            return DataLoader(self.val_dataset, batch_size=self.val_len_data,\n",
    "                        pin_memory=self.pin_memory, shuffle=False)\n",
    "\n",
    "\n",
    "class CrabNetLightning(L.LightningModule):\n",
    "    def __init__(self, **config):\n",
    "        super().__init__()\n",
    "        # Saving hyperparameters\n",
    "        self.save_hyperparameters()\n",
    "\n",
    "        self.model = CrabNet(out_dims=config['out_dims'],\n",
    "                             d_model=config['d_model'],\n",
    "                             N=config['N'],\n",
    "                             heads=config['heads'])\n",
    "        print('\\nModel architecture: out_dims, d_model, N, heads')\n",
    "        print(f'{self.model.out_dims}, {self.model.d_model}, '\n",
    "                  f'{self.model.N}, {self.model.heads}')\n",
    "        print(f'Model size: {count_parameters(self.model)} parameters\\n')\n",
    "\n",
    "        ### here we define some important parameters\n",
    "        self.fudge=config['fudge']\n",
    "        self.batch_size=config['batch_size']\n",
    "        self.classification = config['classification']\n",
    "        self.base_lr=config['base_lr']\n",
    "        self.max_lr=config['max_lr']\n",
    "        ### here we also need to initialise scaler based on training data\n",
    "        if(re.search('.json', config['train_path'] )):\n",
    "            train_data=pd.read_json(config['train_path'])\n",
    "        elif(re.search('.csv', config['train_path'])):\n",
    "            train_data=pd.read_csv(config['train_path'])\n",
    "        \n",
    "        y=train_data['target'].values\n",
    "        self.step_size = len(y)\n",
    "        if self.classification:\n",
    "            self.scaler = DummyScaler(y)\n",
    "        else:\n",
    "            self.scaler = Scaler(y)\n",
    "        ### we also define loss function based on task\n",
    "        if self.classification:\n",
    "            if(np.sum(y)>0):\n",
    "                self.weight=torch.tensor(((len(y)-np.sum(y))/np.sum(y))).cuda()\n",
    "            print(\"Using BCE loss for classification task\")\n",
    "            self.criterion = BCEWithLogitsLoss\n",
    "        else:\n",
    "            print(\"Using RobustL1 loss for regression task\")\n",
    "            self.criterion = RobustL1\n",
    "\n",
    "    def forward(self, src, frac):\n",
    "        out=self.model(src, frac)\n",
    "        return out\n",
    "\n",
    "    def configure_optimizers(self):\n",
    "        base_optim = Lamb(params=self.model.parameters(),lr=0.001)\n",
    "        optimizer = Lookahead(base_optimizer=base_optim)\n",
    "        lr_scheduler = CyclicLR(optimizer,\n",
    "                                base_lr=self.base_lr,\n",
    "                                max_lr=self.max_lr,\n",
    "                                cycle_momentum=False,\n",
    "                                step_size_up=self.step_size)\n",
    "        # lr_scheduler=StepLR(optimizer,\n",
    "        #                     step_size=3,\n",
    "        #                     gamma=0.5)\n",
    "        return [optimizer], [lr_scheduler]\n",
    "\n",
    "    def training_step(self, batch, batch_idx):\n",
    "        X, y, formula = batch\n",
    "        y = self.scaler.scale(y)\n",
    "        src, frac = X.squeeze(-1).chunk(2, dim=1)\n",
    "        frac = frac * (1 + (torch.randn_like(frac))*self.fudge)\n",
    "        frac = torch.clamp(frac, 0, 1)\n",
    "        frac[src == 0] = 0\n",
    "        frac = frac / frac.sum(dim=1).unsqueeze(1).repeat(1, frac.shape[-1])\n",
    "        \n",
    "        output = self(src, frac)\n",
    "        prediction, uncertainty = output.chunk(2, dim=-1)\n",
    "        loss = self.criterion(prediction.view(-1),\n",
    "                              uncertainty.view(-1),\n",
    "                              y.view(-1), self.weight)\n",
    "        \n",
    "        self.log(\"train_loss\", loss, on_step=False, on_epoch=True, prog_bar=True, logger=True, batch_size=self.batch_size)\n",
    "        uncertainty = torch.exp(uncertainty) * self.scaler.std\n",
    "        prediction = self.scaler.unscale(prediction)\n",
    "        if self.classification:\n",
    "            prediction = torch.sigmoid(prediction)\n",
    "            y_pred = prediction.view(-1).detach().cpu().numpy() > 0.5\n",
    "            acc=balanced_accuracy_score(y.view(-1).detach().cpu().numpy(),y_pred)\n",
    "            f1=f1_score(y.view(-1).detach().cpu().numpy(),y_pred,average='weighted')\n",
    "            mc=matthews_corrcoef(y.view(-1).detach().cpu().numpy(),y_pred)\n",
    "            \n",
    "            self.log(\"train_acc\", acc, on_step=False, on_epoch=True, prog_bar=True, logger=True, batch_size=self.batch_size)\n",
    "            self.log(\"train_f1\", f1, on_step=False, on_epoch=True, prog_bar=False, logger=True, batch_size=self.batch_size)\n",
    "            self.log(\"train_mc\", mc, on_step=False, on_epoch=True, prog_bar=False, logger=True, batch_size=self.batch_size)\n",
    "        else:\n",
    "            mse = mean_squared_error(prediction.view(-1),y.view(-1))\n",
    "            mae = mean_absolute_error(prediction.view(-1),y.view(-1))\n",
    "            self.log(\"train_mse\", mse, on_step=True, on_epoch=True, prog_bar=False, logger=True, batch_size=self.batch_size)\n",
    "            self.log(\"train_mae\", mae, on_step=True, on_epoch=True, prog_bar=False, logger=True, batch_size=self.batch_size)\n",
    "        return loss\n",
    "\n",
    "    def validation_step(self, batch, batch_idx):\n",
    "        X, y, formula = batch\n",
    "        y = self.scaler.scale(y)\n",
    "        src, frac = X.squeeze(-1).chunk(2, dim=1)\n",
    "        frac = frac * (1 + (torch.randn_like(frac))*self.fudge)\n",
    "        frac = torch.clamp(frac, 0, 1)\n",
    "        frac[src == 0] = 0\n",
    "        frac = frac / frac.sum(dim=1).unsqueeze(1).repeat(1, frac.shape[-1])\n",
    "        \n",
    "        output = self(src, frac)\n",
    "        prediction, uncertainty = output.chunk(2, dim=-1)\n",
    "        val_loss = self.criterion(prediction.view(-1),\n",
    "                              uncertainty.view(-1),\n",
    "                              y.view(-1), self.weight)\n",
    "        self.log(\"val_loss\", val_loss, on_step=False, on_epoch=True, prog_bar=True, logger=True, batch_size=self.batch_size)\n",
    "        uncertainty = torch.exp(uncertainty) * self.scaler.std\n",
    "        prediction = self.scaler.unscale(prediction)\n",
    "        if self.classification:\n",
    "            prediction = torch.sigmoid(prediction)\n",
    "            y_pred = prediction.view(-1).detach().cpu().numpy() > 0.5\n",
    "            acc=balanced_accuracy_score(y.view(-1).detach().cpu().numpy(),y_pred)\n",
    "            f1=f1_score(y.view(-1).detach().cpu().numpy(),y_pred,average='weighted')\n",
    "            mc=matthews_corrcoef(y.view(-1).detach().cpu().numpy(),y_pred)\n",
    "            \n",
    "            self.log(\"val_acc\", acc, on_step=False, on_epoch=True, prog_bar=True, logger=True, batch_size=self.batch_size)\n",
    "            self.log(\"val_f1\", f1, on_step=False, on_epoch=True, prog_bar=False, logger=True, batch_size=self.batch_size)\n",
    "            self.log(\"val_mc\", mc, on_step=False, on_epoch=True, prog_bar=False, logger=True, batch_size=self.batch_size)\n",
    "        else:\n",
    "            mse = mean_squared_error(prediction.view(-1),y.view(-1))\n",
    "            mae = mean_absolute_error(prediction.view(-1),y.view(-1))\n",
    "            self.log(\"val_mse\", mse, on_step=True, on_epoch=True, prog_bar=False, logger=True, batch_size=self.batch_size)\n",
    "            self.log(\"val_mae\", mae, on_step=True, on_epoch=True, prog_bar=False, logger=True, batch_size=self.batch_size)\n",
    "        return val_loss\n",
    "     \n",
    "    def test_step(self, batch, batch_idx):\n",
    "        X, y, formula = batch\n",
    "        y = self.scaler.scale(y)\n",
    "        src, frac = X.squeeze(-1).chunk(2, dim=1)\n",
    "        frac = frac * (1 + (torch.randn_like(frac))*self.fudge)\n",
    "        frac = torch.clamp(frac, 0, 1)\n",
    "        frac[src == 0] = 0\n",
    "        frac = frac / frac.sum(dim=1).unsqueeze(1).repeat(1, frac.shape[-1])\n",
    "        \n",
    "        output = self(src, frac)\n",
    "        prediction, uncertainty = output.chunk(2, dim=-1)\n",
    "        uncertainty = torch.exp(uncertainty) * self.scaler.std\n",
    "        prediction = self.scaler.unscale(prediction)\n",
    "        if self.classification:\n",
    "            prediction = torch.sigmoid(prediction)\n",
    "            y_pred = prediction.view(-1).detach().cpu().numpy() > 0.5\n",
    "            acc=balanced_accuracy_score(y.view(-1).detach().cpu().numpy(),y_pred)\n",
    "            f1=f1_score(y.view(-1).detach().cpu().numpy(),y_pred,average='weighted')\n",
    "            mc=matthews_corrcoef(y.view(-1).detach().cpu().numpy(),y_pred)\n",
    "            \n",
    "            self.log(\"test_acc\", acc, on_step=False, on_epoch=True, prog_bar=True, logger=True, batch_size=self.batch_size)\n",
    "            self.log(\"test_f1\", f1, on_step=False, on_epoch=True, prog_bar=False, logger=True, batch_size=self.batch_size)\n",
    "            self.log(\"test_mc\", mc, on_step=False, on_epoch=True, prog_bar=False, logger=True, batch_size=self.batch_size)\n",
    "        else:\n",
    "            mse = mean_squared_error(prediction.view(-1),y.view(-1))\n",
    "            mae = mean_absolute_error(prediction.view(-1),y.view(-1))\n",
    "            self.log(\"test_mse\", mse, on_step=True, on_epoch=True, prog_bar=False, logger=True, batch_size=self.batch_size)\n",
    "            self.log(\"test_mae\", mae, on_step=True, on_epoch=True, prog_bar=False, logger=True, batch_size=self.batch_size)\n",
    "        return \n",
    "    \n",
    "    def predict_step(self, batch, batch_idx, dataloader_idx=0):\n",
    "        X, y, formula = batch\n",
    "        y = self.scaler.scale(y)\n",
    "        src, frac = X.squeeze(-1).chunk(2, dim=1)\n",
    "        frac = frac * (1 + (torch.randn_like(frac))*self.fudge)\n",
    "        frac = torch.clamp(frac, 0, 1)\n",
    "        frac[src == 0] = 0\n",
    "        frac = frac / frac.sum(dim=1).unsqueeze(1).repeat(1, frac.shape[-1])\n",
    "        \n",
    "        output = self(src, frac)\n",
    "        prediction, uncertainty = output.chunk(2, dim=-1)\n",
    "        uncertainty = torch.exp(uncertainty) * self.scaler.std\n",
    "        prediction = self.scaler.unscale(prediction)\n",
    "        if self.classification:\n",
    "            prediction = torch.sigmoid(prediction)\n",
    "        return formula, prediction, uncertainty"
   ]
  },
  {
   "cell_type": "code",
   "execution_count": null,
   "metadata": {},
   "outputs": [
    {
     "name": "stderr",
     "output_type": "stream",
     "text": [
      "Generating EDM: 100%|██████████| 75091/75091 [00:00<00:00, 212224.18formulae/s]\n"
     ]
    },
    {
     "name": "stdout",
     "output_type": "stream",
     "text": [
      "loading data with up to 16 elements in the formula for training\n"
     ]
    },
    {
     "name": "stderr",
     "output_type": "stream",
     "text": [
      "Generating EDM: 100%|██████████| 8344/8344 [00:00<00:00, 203327.11formulae/s]\n"
     ]
    },
    {
     "name": "stdout",
     "output_type": "stream",
     "text": [
      "loading data with up to 16 elements in the formula for validation\n"
     ]
    },
    {
     "name": "stderr",
     "output_type": "stream",
     "text": [
      "Generating EDM: 100%|██████████| 20859/20859 [00:00<00:00, 200383.38formulae/s]\n"
     ]
    },
    {
     "name": "stdout",
     "output_type": "stream",
     "text": [
      "loading data with up to 16 elements in the formula for testing\n"
     ]
    },
    {
     "name": "stderr",
     "output_type": "stream",
     "text": [
      "GPU available: True (cuda), used: False\n",
      "TPU available: False, using: 0 TPU cores\n",
      "IPU available: False, using: 0 IPUs\n",
      "HPU available: False, using: 0 HPUs\n"
     ]
    },
    {
     "name": "stdout",
     "output_type": "stream",
     "text": [
      "\n",
      "Model architecture: out_dims, d_model, N, heads\n",
      "3, 512, 3, 4\n",
      "Model size: 11987206 parameters\n",
      "\n",
      "Using BCE loss for classification task\n"
     ]
    },
    {
     "name": "stderr",
     "output_type": "stream",
     "text": [
      "c:\\Users\\patykova\\.conda\\envs\\roost\\lib\\site-packages\\pytorch_lightning\\trainer\\setup.py:176: PossibleUserWarning: GPU available but not used. Set `accelerator` and `devices` using `Trainer(accelerator='gpu', devices=1)`.\n",
      "  rank_zero_warn(\n",
      "Generating EDM: 100%|██████████| 75091/75091 [00:00<00:00, 206773.62formulae/s]\n"
     ]
    },
    {
     "name": "stdout",
     "output_type": "stream",
     "text": [
      "loading data with up to 16 elements in the formula for training\n"
     ]
    },
    {
     "name": "stderr",
     "output_type": "stream",
     "text": [
      "Generating EDM: 100%|██████████| 8344/8344 [00:00<00:00, 203323.57formulae/s]\n"
     ]
    },
    {
     "name": "stdout",
     "output_type": "stream",
     "text": [
      "loading data with up to 16 elements in the formula for validation\n"
     ]
    },
    {
     "name": "stderr",
     "output_type": "stream",
     "text": [
      "Generating EDM: 100%|██████████| 20859/20859 [00:00<00:00, 204312.32formulae/s]\n",
      "c:\\Users\\patykova\\.conda\\envs\\roost\\lib\\site-packages\\pytorch_lightning\\trainer\\connectors\\data_connector.py:224: PossibleUserWarning: The dataloader, predict_dataloader 0, does not have many workers which may be a bottleneck. Consider increasing the value of the `num_workers` argument` (try 16 which is the number of cpus on this machine) in the `DataLoader` init to improve performance.\n",
      "  rank_zero_warn(\n"
     ]
    },
    {
     "name": "stdout",
     "output_type": "stream",
     "text": [
      "loading data with up to 16 elements in the formula for testing\n"
     ]
    },
    {
     "data": {
      "application/vnd.jupyter.widget-view+json": {
       "model_id": "bc66766b6fa44b76990c63adbc793cbc",
       "version_major": 2,
       "version_minor": 0
      },
      "text/plain": [
       "Predicting: 0it [00:00, ?it/s]"
      ]
     },
     "metadata": {},
     "output_type": "display_data"
    },
    {
     "name": "stderr",
     "output_type": "stream",
     "text": [
      "GPU available: True (cuda), used: False\n",
      "TPU available: False, using: 0 TPU cores\n",
      "IPU available: False, using: 0 IPUs\n",
      "HPU available: False, using: 0 HPUs\n"
     ]
    },
    {
     "name": "stdout",
     "output_type": "stream",
     "text": [
      "\n",
      "Model architecture: out_dims, d_model, N, heads\n",
      "3, 512, 3, 4\n",
      "Model size: 11987206 parameters\n",
      "\n",
      "Using BCE loss for classification task\n"
     ]
    },
    {
     "name": "stderr",
     "output_type": "stream",
     "text": [
      "c:\\Users\\patykova\\.conda\\envs\\roost\\lib\\site-packages\\pytorch_lightning\\trainer\\setup.py:176: PossibleUserWarning: GPU available but not used. Set `accelerator` and `devices` using `Trainer(accelerator='gpu', devices=1)`.\n",
      "  rank_zero_warn(\n",
      "Generating EDM: 100%|██████████| 75091/75091 [00:00<00:00, 208678.35formulae/s]\n"
     ]
    },
    {
     "name": "stdout",
     "output_type": "stream",
     "text": [
      "loading data with up to 16 elements in the formula for training\n"
     ]
    },
    {
     "name": "stderr",
     "output_type": "stream",
     "text": [
      "Generating EDM: 100%|██████████| 8344/8344 [00:00<00:00, 203324.75formulae/s]\n"
     ]
    },
    {
     "name": "stdout",
     "output_type": "stream",
     "text": [
      "loading data with up to 16 elements in the formula for validation\n"
     ]
    },
    {
     "name": "stderr",
     "output_type": "stream",
     "text": [
      "Generating EDM: 100%|██████████| 20859/20859 [00:00<00:00, 202447.70formulae/s]\n"
     ]
    },
    {
     "name": "stdout",
     "output_type": "stream",
     "text": [
      "loading data with up to 16 elements in the formula for testing\n"
     ]
    },
    {
     "name": "stderr",
     "output_type": "stream",
     "text": [
      "c:\\Users\\patykova\\.conda\\envs\\roost\\lib\\site-packages\\pytorch_lightning\\trainer\\connectors\\data_connector.py:224: PossibleUserWarning: The dataloader, predict_dataloader 0, does not have many workers which may be a bottleneck. Consider increasing the value of the `num_workers` argument` (try 16 which is the number of cpus on this machine) in the `DataLoader` init to improve performance.\n",
      "  rank_zero_warn(\n"
     ]
    },
    {
     "data": {
      "application/vnd.jupyter.widget-view+json": {
       "model_id": "3d86305fdf1040f9a3b63797537c3c53",
       "version_major": 2,
       "version_minor": 0
      },
      "text/plain": [
       "Predicting: 0it [00:00, ?it/s]"
      ]
     },
     "metadata": {},
     "output_type": "display_data"
    },
    {
     "name": "stderr",
     "output_type": "stream",
     "text": [
      "GPU available: True (cuda), used: False\n",
      "TPU available: False, using: 0 TPU cores\n",
      "IPU available: False, using: 0 IPUs\n",
      "HPU available: False, using: 0 HPUs\n"
     ]
    },
    {
     "name": "stdout",
     "output_type": "stream",
     "text": [
      "\n",
      "Model architecture: out_dims, d_model, N, heads\n",
      "3, 512, 3, 4\n",
      "Model size: 11987206 parameters\n",
      "\n",
      "Using BCE loss for classification task\n"
     ]
    },
    {
     "name": "stderr",
     "output_type": "stream",
     "text": [
      "c:\\Users\\patykova\\.conda\\envs\\roost\\lib\\site-packages\\pytorch_lightning\\trainer\\setup.py:176: PossibleUserWarning: GPU available but not used. Set `accelerator` and `devices` using `Trainer(accelerator='gpu', devices=1)`.\n",
      "  rank_zero_warn(\n",
      "Generating EDM: 100%|██████████| 75091/75091 [00:00<00:00, 210636.95formulae/s]\n"
     ]
    },
    {
     "name": "stdout",
     "output_type": "stream",
     "text": [
      "loading data with up to 16 elements in the formula for training\n"
     ]
    },
    {
     "name": "stderr",
     "output_type": "stream",
     "text": [
      "Generating EDM: 100%|██████████| 8344/8344 [00:00<00:00, 203452.41formulae/s]\n"
     ]
    },
    {
     "name": "stdout",
     "output_type": "stream",
     "text": [
      "loading data with up to 16 elements in the formula for validation\n"
     ]
    },
    {
     "name": "stderr",
     "output_type": "stream",
     "text": [
      "Generating EDM: 100%|██████████| 20859/20859 [00:00<00:00, 201937.43formulae/s]\n",
      "c:\\Users\\patykova\\.conda\\envs\\roost\\lib\\site-packages\\pytorch_lightning\\trainer\\connectors\\data_connector.py:224: PossibleUserWarning: The dataloader, predict_dataloader 0, does not have many workers which may be a bottleneck. Consider increasing the value of the `num_workers` argument` (try 16 which is the number of cpus on this machine) in the `DataLoader` init to improve performance.\n",
      "  rank_zero_warn(\n"
     ]
    },
    {
     "name": "stdout",
     "output_type": "stream",
     "text": [
      "loading data with up to 16 elements in the formula for testing\n"
     ]
    },
    {
     "data": {
      "application/vnd.jupyter.widget-view+json": {
       "model_id": "3ffcffa30030448c98ebd4c1febaee2b",
       "version_major": 2,
       "version_minor": 0
      },
      "text/plain": [
       "Predicting: 0it [00:00, ?it/s]"
      ]
     },
     "metadata": {},
     "output_type": "display_data"
    },
    {
     "name": "stderr",
     "output_type": "stream",
     "text": [
      "GPU available: True (cuda), used: False\n",
      "TPU available: False, using: 0 TPU cores\n",
      "IPU available: False, using: 0 IPUs\n",
      "HPU available: False, using: 0 HPUs\n"
     ]
    },
    {
     "name": "stdout",
     "output_type": "stream",
     "text": [
      "\n",
      "Model architecture: out_dims, d_model, N, heads\n",
      "3, 512, 3, 4\n",
      "Model size: 11987206 parameters\n",
      "\n",
      "Using BCE loss for classification task\n"
     ]
    },
    {
     "name": "stderr",
     "output_type": "stream",
     "text": [
      "c:\\Users\\patykova\\.conda\\envs\\roost\\lib\\site-packages\\pytorch_lightning\\trainer\\setup.py:176: PossibleUserWarning: GPU available but not used. Set `accelerator` and `devices` using `Trainer(accelerator='gpu', devices=1)`.\n",
      "  rank_zero_warn(\n",
      "Generating EDM: 100%|██████████| 75091/75091 [00:00<00:00, 208754.84formulae/s]\n"
     ]
    },
    {
     "name": "stdout",
     "output_type": "stream",
     "text": [
      "loading data with up to 16 elements in the formula for training\n"
     ]
    },
    {
     "name": "stderr",
     "output_type": "stream",
     "text": [
      "Generating EDM: 100%|██████████| 8344/8344 [00:00<00:00, 203318.84formulae/s]\n"
     ]
    },
    {
     "name": "stdout",
     "output_type": "stream",
     "text": [
      "loading data with up to 16 elements in the formula for validation\n"
     ]
    },
    {
     "name": "stderr",
     "output_type": "stream",
     "text": [
      "Generating EDM: 100%|██████████| 20859/20859 [00:00<00:00, 204312.32formulae/s]\n",
      "c:\\Users\\patykova\\.conda\\envs\\roost\\lib\\site-packages\\pytorch_lightning\\trainer\\connectors\\data_connector.py:224: PossibleUserWarning: The dataloader, predict_dataloader 0, does not have many workers which may be a bottleneck. Consider increasing the value of the `num_workers` argument` (try 16 which is the number of cpus on this machine) in the `DataLoader` init to improve performance.\n",
      "  rank_zero_warn(\n"
     ]
    },
    {
     "name": "stdout",
     "output_type": "stream",
     "text": [
      "loading data with up to 16 elements in the formula for testing\n"
     ]
    },
    {
     "data": {
      "application/vnd.jupyter.widget-view+json": {
       "model_id": "c4a09a0f9c394d0e8025371c6ca83b67",
       "version_major": 2,
       "version_minor": 0
      },
      "text/plain": [
       "Predicting: 0it [00:00, ?it/s]"
      ]
     },
     "metadata": {},
     "output_type": "display_data"
    },
    {
     "name": "stderr",
     "output_type": "stream",
     "text": [
      "GPU available: True (cuda), used: False\n",
      "TPU available: False, using: 0 TPU cores\n",
      "IPU available: False, using: 0 IPUs\n",
      "HPU available: False, using: 0 HPUs\n"
     ]
    },
    {
     "name": "stdout",
     "output_type": "stream",
     "text": [
      "\n",
      "Model architecture: out_dims, d_model, N, heads\n",
      "3, 512, 3, 4\n",
      "Model size: 11987206 parameters\n",
      "\n",
      "Using BCE loss for classification task\n"
     ]
    },
    {
     "name": "stderr",
     "output_type": "stream",
     "text": [
      "c:\\Users\\patykova\\.conda\\envs\\roost\\lib\\site-packages\\pytorch_lightning\\trainer\\setup.py:176: PossibleUserWarning: GPU available but not used. Set `accelerator` and `devices` using `Trainer(accelerator='gpu', devices=1)`.\n",
      "  rank_zero_warn(\n",
      "Generating EDM: 100%|██████████| 75091/75091 [00:00<00:00, 207226.53formulae/s]\n"
     ]
    },
    {
     "name": "stdout",
     "output_type": "stream",
     "text": [
      "loading data with up to 16 elements in the formula for training\n"
     ]
    },
    {
     "name": "stderr",
     "output_type": "stream",
     "text": [
      "Generating EDM: 100%|██████████| 8344/8344 [00:00<00:00, 202559.82formulae/s]\n"
     ]
    },
    {
     "name": "stdout",
     "output_type": "stream",
     "text": [
      "loading data with up to 16 elements in the formula for validation\n"
     ]
    },
    {
     "name": "stderr",
     "output_type": "stream",
     "text": [
      "Generating EDM: 100%|██████████| 20859/20859 [00:00<00:00, 203694.40formulae/s]\n",
      "c:\\Users\\patykova\\.conda\\envs\\roost\\lib\\site-packages\\pytorch_lightning\\trainer\\connectors\\data_connector.py:224: PossibleUserWarning: The dataloader, predict_dataloader 0, does not have many workers which may be a bottleneck. Consider increasing the value of the `num_workers` argument` (try 16 which is the number of cpus on this machine) in the `DataLoader` init to improve performance.\n",
      "  rank_zero_warn(\n"
     ]
    },
    {
     "name": "stdout",
     "output_type": "stream",
     "text": [
      "loading data with up to 16 elements in the formula for testing\n"
     ]
    },
    {
     "data": {
      "application/vnd.jupyter.widget-view+json": {
       "model_id": "f9d6d6af6333462f966249540ec2131d",
       "version_major": 2,
       "version_minor": 0
      },
      "text/plain": [
       "Predicting: 0it [00:00, ?it/s]"
      ]
     },
     "metadata": {},
     "output_type": "display_data"
    },
    {
     "name": "stderr",
     "output_type": "stream",
     "text": [
      "GPU available: True (cuda), used: False\n",
      "TPU available: False, using: 0 TPU cores\n",
      "IPU available: False, using: 0 IPUs\n",
      "HPU available: False, using: 0 HPUs\n"
     ]
    },
    {
     "name": "stdout",
     "output_type": "stream",
     "text": [
      "\n",
      "Model architecture: out_dims, d_model, N, heads\n",
      "3, 512, 3, 4\n",
      "Model size: 11987206 parameters\n",
      "\n",
      "Using BCE loss for classification task\n"
     ]
    },
    {
     "name": "stderr",
     "output_type": "stream",
     "text": [
      "c:\\Users\\patykova\\.conda\\envs\\roost\\lib\\site-packages\\pytorch_lightning\\trainer\\setup.py:176: PossibleUserWarning: GPU available but not used. Set `accelerator` and `devices` using `Trainer(accelerator='gpu', devices=1)`.\n",
      "  rank_zero_warn(\n",
      "Generating EDM: 100%|██████████| 75091/75091 [00:00<00:00, 209447.29formulae/s]\n"
     ]
    },
    {
     "name": "stdout",
     "output_type": "stream",
     "text": [
      "loading data with up to 16 elements in the formula for training\n"
     ]
    },
    {
     "name": "stderr",
     "output_type": "stream",
     "text": [
      "Generating EDM: 100%|██████████| 8344/8344 [00:00<00:00, 203327.11formulae/s]\n"
     ]
    },
    {
     "name": "stdout",
     "output_type": "stream",
     "text": [
      "loading data with up to 16 elements in the formula for validation\n"
     ]
    },
    {
     "name": "stderr",
     "output_type": "stream",
     "text": [
      "Generating EDM: 100%|██████████| 20859/20859 [00:00<00:00, 202325.97formulae/s]\n",
      "c:\\Users\\patykova\\.conda\\envs\\roost\\lib\\site-packages\\pytorch_lightning\\trainer\\connectors\\data_connector.py:224: PossibleUserWarning: The dataloader, predict_dataloader 0, does not have many workers which may be a bottleneck. Consider increasing the value of the `num_workers` argument` (try 16 which is the number of cpus on this machine) in the `DataLoader` init to improve performance.\n",
      "  rank_zero_warn(\n"
     ]
    },
    {
     "name": "stdout",
     "output_type": "stream",
     "text": [
      "loading data with up to 16 elements in the formula for testing\n"
     ]
    },
    {
     "data": {
      "application/vnd.jupyter.widget-view+json": {
       "model_id": "c4bf4e45b4f34ffcbd016f0f3a8afc80",
       "version_major": 2,
       "version_minor": 0
      },
      "text/plain": [
       "Predicting: 0it [00:00, ?it/s]"
      ]
     },
     "metadata": {},
     "output_type": "display_data"
    },
    {
     "name": "stderr",
     "output_type": "stream",
     "text": [
      "GPU available: True (cuda), used: False\n",
      "TPU available: False, using: 0 TPU cores\n",
      "IPU available: False, using: 0 IPUs\n",
      "HPU available: False, using: 0 HPUs\n"
     ]
    },
    {
     "name": "stdout",
     "output_type": "stream",
     "text": [
      "\n",
      "Model architecture: out_dims, d_model, N, heads\n",
      "3, 512, 3, 4\n",
      "Model size: 11987206 parameters\n",
      "\n",
      "Using BCE loss for classification task\n"
     ]
    },
    {
     "name": "stderr",
     "output_type": "stream",
     "text": [
      "c:\\Users\\patykova\\.conda\\envs\\roost\\lib\\site-packages\\pytorch_lightning\\trainer\\setup.py:176: PossibleUserWarning: GPU available but not used. Set `accelerator` and `devices` using `Trainer(accelerator='gpu', devices=1)`.\n",
      "  rank_zero_warn(\n",
      "Generating EDM: 100%|██████████| 75091/75091 [00:00<00:00, 209748.72formulae/s]\n"
     ]
    },
    {
     "name": "stdout",
     "output_type": "stream",
     "text": [
      "loading data with up to 16 elements in the formula for training\n"
     ]
    },
    {
     "name": "stderr",
     "output_type": "stream",
     "text": [
      "Generating EDM: 100%|██████████| 8344/8344 [00:00<00:00, 203317.66formulae/s]\n"
     ]
    },
    {
     "name": "stdout",
     "output_type": "stream",
     "text": [
      "loading data with up to 16 elements in the formula for validation\n"
     ]
    },
    {
     "name": "stderr",
     "output_type": "stream",
     "text": [
      "Generating EDM: 100%|██████████| 20859/20859 [00:00<00:00, 202319.89formulae/s]\n",
      "c:\\Users\\patykova\\.conda\\envs\\roost\\lib\\site-packages\\pytorch_lightning\\trainer\\connectors\\data_connector.py:224: PossibleUserWarning: The dataloader, predict_dataloader 0, does not have many workers which may be a bottleneck. Consider increasing the value of the `num_workers` argument` (try 16 which is the number of cpus on this machine) in the `DataLoader` init to improve performance.\n",
      "  rank_zero_warn(\n"
     ]
    },
    {
     "name": "stdout",
     "output_type": "stream",
     "text": [
      "loading data with up to 16 elements in the formula for testing\n"
     ]
    },
    {
     "data": {
      "application/vnd.jupyter.widget-view+json": {
       "model_id": "e0e85ce17ba243b4bcb7db71650b8f38",
       "version_major": 2,
       "version_minor": 0
      },
      "text/plain": [
       "Predicting: 0it [00:00, ?it/s]"
      ]
     },
     "metadata": {},
     "output_type": "display_data"
    },
    {
     "name": "stderr",
     "output_type": "stream",
     "text": [
      "GPU available: True (cuda), used: False\n",
      "TPU available: False, using: 0 TPU cores\n",
      "IPU available: False, using: 0 IPUs\n",
      "HPU available: False, using: 0 HPUs\n"
     ]
    },
    {
     "name": "stdout",
     "output_type": "stream",
     "text": [
      "\n",
      "Model architecture: out_dims, d_model, N, heads\n",
      "3, 512, 3, 4\n",
      "Model size: 11987206 parameters\n",
      "\n",
      "Using BCE loss for classification task\n"
     ]
    },
    {
     "name": "stderr",
     "output_type": "stream",
     "text": [
      "c:\\Users\\patykova\\.conda\\envs\\roost\\lib\\site-packages\\pytorch_lightning\\trainer\\setup.py:176: PossibleUserWarning: GPU available but not used. Set `accelerator` and `devices` using `Trainer(accelerator='gpu', devices=1)`.\n",
      "  rank_zero_warn(\n",
      "Generating EDM: 100%|██████████| 75091/75091 [00:00<00:00, 209550.83formulae/s]\n"
     ]
    },
    {
     "name": "stdout",
     "output_type": "stream",
     "text": [
      "loading data with up to 16 elements in the formula for training\n"
     ]
    },
    {
     "name": "stderr",
     "output_type": "stream",
     "text": [
      "Generating EDM: 100%|██████████| 8344/8344 [00:00<00:00, 198476.00formulae/s]\n"
     ]
    },
    {
     "name": "stdout",
     "output_type": "stream",
     "text": [
      "loading data with up to 16 elements in the formula for validation\n"
     ]
    },
    {
     "name": "stderr",
     "output_type": "stream",
     "text": [
      "Generating EDM: 100%|██████████| 20859/20859 [00:00<00:00, 204305.16formulae/s]\n",
      "c:\\Users\\patykova\\.conda\\envs\\roost\\lib\\site-packages\\pytorch_lightning\\trainer\\connectors\\data_connector.py:224: PossibleUserWarning: The dataloader, predict_dataloader 0, does not have many workers which may be a bottleneck. Consider increasing the value of the `num_workers` argument` (try 16 which is the number of cpus on this machine) in the `DataLoader` init to improve performance.\n",
      "  rank_zero_warn(\n"
     ]
    },
    {
     "name": "stdout",
     "output_type": "stream",
     "text": [
      "loading data with up to 16 elements in the formula for testing\n"
     ]
    },
    {
     "data": {
      "application/vnd.jupyter.widget-view+json": {
       "model_id": "bfe4eb89c7d0409ca7073dc28982fab1",
       "version_major": 2,
       "version_minor": 0
      },
      "text/plain": [
       "Predicting: 0it [00:00, ?it/s]"
      ]
     },
     "metadata": {},
     "output_type": "display_data"
    },
    {
     "name": "stderr",
     "output_type": "stream",
     "text": [
      "GPU available: True (cuda), used: False\n",
      "TPU available: False, using: 0 TPU cores\n",
      "IPU available: False, using: 0 IPUs\n",
      "HPU available: False, using: 0 HPUs\n"
     ]
    },
    {
     "name": "stdout",
     "output_type": "stream",
     "text": [
      "\n",
      "Model architecture: out_dims, d_model, N, heads\n",
      "3, 512, 3, 4\n",
      "Model size: 11987206 parameters\n",
      "\n",
      "Using BCE loss for classification task\n"
     ]
    },
    {
     "name": "stderr",
     "output_type": "stream",
     "text": [
      "c:\\Users\\patykova\\.conda\\envs\\roost\\lib\\site-packages\\pytorch_lightning\\trainer\\setup.py:176: PossibleUserWarning: GPU available but not used. Set `accelerator` and `devices` using `Trainer(accelerator='gpu', devices=1)`.\n",
      "  rank_zero_warn(\n",
      "Generating EDM: 100%|██████████| 75091/75091 [00:00<00:00, 202207.84formulae/s]\n"
     ]
    },
    {
     "name": "stdout",
     "output_type": "stream",
     "text": [
      "loading data with up to 16 elements in the formula for training\n"
     ]
    },
    {
     "name": "stderr",
     "output_type": "stream",
     "text": [
      "Generating EDM: 100%|██████████| 8344/8344 [00:00<00:00, 203321.21formulae/s]\n"
     ]
    },
    {
     "name": "stdout",
     "output_type": "stream",
     "text": [
      "loading data with up to 16 elements in the formula for validation\n"
     ]
    },
    {
     "name": "stderr",
     "output_type": "stream",
     "text": [
      "Generating EDM: 100%|██████████| 20859/20859 [00:00<00:00, 165792.10formulae/s]\n",
      "c:\\Users\\patykova\\.conda\\envs\\roost\\lib\\site-packages\\pytorch_lightning\\trainer\\connectors\\data_connector.py:224: PossibleUserWarning: The dataloader, predict_dataloader 0, does not have many workers which may be a bottleneck. Consider increasing the value of the `num_workers` argument` (try 16 which is the number of cpus on this machine) in the `DataLoader` init to improve performance.\n",
      "  rank_zero_warn(\n"
     ]
    },
    {
     "name": "stdout",
     "output_type": "stream",
     "text": [
      "loading data with up to 16 elements in the formula for testing\n"
     ]
    },
    {
     "data": {
      "application/vnd.jupyter.widget-view+json": {
       "model_id": "29454de7b6914f00bfe63266e523d23d",
       "version_major": 2,
       "version_minor": 0
      },
      "text/plain": [
       "Predicting: 0it [00:00, ?it/s]"
      ]
     },
     "metadata": {},
     "output_type": "display_data"
    },
    {
     "name": "stderr",
     "output_type": "stream",
     "text": [
      "GPU available: True (cuda), used: False\n",
      "TPU available: False, using: 0 TPU cores\n",
      "IPU available: False, using: 0 IPUs\n",
      "HPU available: False, using: 0 HPUs\n"
     ]
    },
    {
     "name": "stdout",
     "output_type": "stream",
     "text": [
      "\n",
      "Model architecture: out_dims, d_model, N, heads\n",
      "3, 512, 3, 4\n",
      "Model size: 11987206 parameters\n",
      "\n",
      "Using BCE loss for classification task\n"
     ]
    },
    {
     "name": "stderr",
     "output_type": "stream",
     "text": [
      "c:\\Users\\patykova\\.conda\\envs\\roost\\lib\\site-packages\\pytorch_lightning\\trainer\\setup.py:176: PossibleUserWarning: GPU available but not used. Set `accelerator` and `devices` using `Trainer(accelerator='gpu', devices=1)`.\n",
      "  rank_zero_warn(\n",
      "Generating EDM: 100%|██████████| 75091/75091 [00:00<00:00, 201664.44formulae/s]\n"
     ]
    },
    {
     "name": "stdout",
     "output_type": "stream",
     "text": [
      "loading data with up to 16 elements in the formula for training\n"
     ]
    },
    {
     "name": "stderr",
     "output_type": "stream",
     "text": [
      "Generating EDM: 100%|██████████| 8344/8344 [00:00<00:00, 193861.71formulae/s]\n"
     ]
    },
    {
     "name": "stdout",
     "output_type": "stream",
     "text": [
      "loading data with up to 16 elements in the formula for validation\n"
     ]
    },
    {
     "name": "stderr",
     "output_type": "stream",
     "text": [
      "Generating EDM: 100%|██████████| 20859/20859 [00:00<00:00, 202318.02formulae/s]\n",
      "c:\\Users\\patykova\\.conda\\envs\\roost\\lib\\site-packages\\pytorch_lightning\\trainer\\connectors\\data_connector.py:224: PossibleUserWarning: The dataloader, predict_dataloader 0, does not have many workers which may be a bottleneck. Consider increasing the value of the `num_workers` argument` (try 16 which is the number of cpus on this machine) in the `DataLoader` init to improve performance.\n",
      "  rank_zero_warn(\n"
     ]
    },
    {
     "name": "stdout",
     "output_type": "stream",
     "text": [
      "loading data with up to 16 elements in the formula for testing\n"
     ]
    },
    {
     "data": {
      "application/vnd.jupyter.widget-view+json": {
       "model_id": "0f6b9acce24143bd873223b2a22d8e5c",
       "version_major": 2,
       "version_minor": 0
      },
      "text/plain": [
       "Predicting: 0it [00:00, ?it/s]"
      ]
     },
     "metadata": {},
     "output_type": "display_data"
    }
   ],
   "source": [
    "with open('crabnet/crabnet_config.json','r') as f:\n",
    "        config=json.load(f)\n",
    "disorder_data = CrabNetDataModule(config['train_path'],\n",
    "                                   config['val_path'],\n",
    "                                   config['test_path'],\n",
    "                                   classification = config['classification'])\n",
    "disorder_data.prepare_data()\n",
    "predictloader=disorder_data.predict_dataloader()\n",
    "for x in predictloader:\n",
    "    _,y_true,_=x\n",
    "    datalength=len(y_true)\n",
    "\n",
    "prediction_crabnet=np.zeros((10,datalength))\n",
    "\n",
    "for i in range(10):\n",
    "    name='crabnet-disorder-'+str(i)\n",
    "    model = CrabNetLightning.load_from_checkpoint('crabnet_models/crabnet_trained_models/'+name+'.ckpt')\n",
    "    trainer = Trainer()\n",
    "    formula, prediction, uncertainty=trainer.predict(model=model,datamodule=disorder_data)[0]\n",
    "    prediction_crabnet[i,:]=prediction.detach().cpu().numpy()[:,0]\n",
    "    "
   ]
  },
  {
   "cell_type": "code",
   "execution_count": null,
   "metadata": {},
   "outputs": [],
   "source": [
    "y_pred_proba_roost=np.mean(prediction_roost,axis=0)\n",
    "y_pred_roost = y_pred_proba_roost > 0.5\n",
    "y_pred_proba_crabnet=np.mean(prediction_crabnet,axis=0)\n",
    "y_pred_crabnet = y_pred_proba_crabnet > 0.5"
   ]
  },
  {
   "cell_type": "code",
   "execution_count": null,
   "metadata": {},
   "outputs": [
    {
     "data": {
      "text/plain": [
       "(0.9141226702028342, 0.8615996055104127)"
      ]
     },
     "execution_count": 27,
     "metadata": {},
     "output_type": "execute_result"
    }
   ],
   "source": [
    "balanced_accuracy_score(y_true,y_pred_crabnet), balanced_accuracy_score(y_true,y_pred_roost)"
   ]
  },
  {
   "cell_type": "code",
   "execution_count": null,
   "metadata": {},
   "outputs": [
    {
     "data": {
      "text/plain": [
       "(0.9106009640325206, 0.857484201453588)"
      ]
     },
     "execution_count": 28,
     "metadata": {},
     "output_type": "execute_result"
    }
   ],
   "source": [
    "f1_score(y_true,y_pred_crabnet,average='weighted'),f1_score(y_true,y_pred_roost,average='weighted')"
   ]
  },
  {
   "cell_type": "code",
   "execution_count": null,
   "metadata": {},
   "outputs": [
    {
     "data": {
      "text/plain": [
       "(0.9536934950385888, 0.9185457087921692)"
      ]
     },
     "execution_count": 29,
     "metadata": {},
     "output_type": "execute_result"
    }
   ],
   "source": [
    "precision_score(y_true,y_pred_crabnet),precision_score(y_true,y_pred_roost)"
   ]
  },
  {
   "cell_type": "code",
   "execution_count": null,
   "metadata": {},
   "outputs": [
    {
     "data": {
      "text/plain": [
       "(0.8941634860050891, 0.8357188295165394)"
      ]
     },
     "execution_count": 30,
     "metadata": {},
     "output_type": "execute_result"
    }
   ],
   "source": [
    "recall_score(y_true,y_pred_crabnet),recall_score(y_true,y_pred_roost)"
   ]
  },
  {
   "cell_type": "code",
   "execution_count": null,
   "metadata": {},
   "outputs": [
    {
     "data": {
      "text/plain": [
       "(0.8175099004702066, 0.7110756087614373)"
      ]
     },
     "execution_count": 31,
     "metadata": {},
     "output_type": "execute_result"
    }
   ],
   "source": [
    "matthews_corrcoef(y_true,y_pred_crabnet),matthews_corrcoef(y_true,y_pred_roost)"
   ]
  },
  {
   "cell_type": "code",
   "execution_count": null,
   "metadata": {},
   "outputs": [
    {
     "data": {
      "text/plain": [
       "(0.9662498129926128, 0.9327792442689724)"
      ]
     },
     "execution_count": 33,
     "metadata": {},
     "output_type": "execute_result"
    }
   ],
   "source": [
    "roc_auc_score(y_true,y_pred_proba_crabnet),roc_auc_score(y_true,y_pred_proba_roost)"
   ]
  },
  {
   "cell_type": "code",
   "execution_count": 3,
   "metadata": {},
   "outputs": [],
   "source": [
    "import numpy as np\n",
    "import pandas as pd\n",
    "from matminer.featurizers.composition import ElementProperty, Stoichiometry \n",
    "from matminer.featurizers.composition import ValenceOrbital, IonProperty, AtomicOrbitals\n",
    "from matplotlib import pyplot as plt\n",
    "from matminer.datasets import load_dataset\n",
    "from matminer.featurizers.base import MultipleFeaturizer\n",
    "\n",
    "from matminer.featurizers.conversions import DictToObject, StrToComposition\n",
    "from sklearn.ensemble import RandomForestRegressor,RandomForestClassifier\n",
    "from sklearn.model_selection import ShuffleSplit, train_test_split\n",
    "from sklearn.pipeline import Pipeline\n",
    "from sklearn.impute import SimpleImputer\n",
    "from scipy import stats\n",
    "from tqdm import tqdm_notebook as tqdm\n",
    "\n",
    "from pymatgen.core.composition import Composition"
   ]
  },
  {
   "cell_type": "code",
   "execution_count": 4,
   "metadata": {},
   "outputs": [],
   "source": [
    "df_train=pd.read_csv('data/roost_data/train.csv',usecols=['formula', 'disorder'])\n",
    "df_val=pd.read_csv('data/roost_data/val.csv',usecols=['formula', 'disorder'])\n",
    "df_test=pd.read_csv('data/roost_data/test.csv',usecols=['formula', 'disorder'])\n",
    "df_train['composition']=[Composition(df_train.iloc[i]['formula']).fractional_composition for i in range(len(df_train))]\n",
    "df_val['composition']=[Composition(df_val.iloc[i]['formula']).fractional_composition for i in range(len(df_val))]\n",
    "df_test['composition']=[Composition(df_test.iloc[i]['formula']).fractional_composition for i in range(len(df_test))]"
   ]
  },
  {
   "cell_type": "code",
   "execution_count": 5,
   "metadata": {},
   "outputs": [
    {
     "name": "stderr",
     "output_type": "stream",
     "text": [
      "C:\\Users\\patykova\\.conda\\envs\\roost\\lib\\site-packages\\pymatgen\\core\\periodic_table.py:212: UserWarning: No electronegativity for Ar. Setting to NaN. This has no physical meaning, and is mainly done to avoid errors caused by the code expecting a float.\n",
      "  warnings.warn(\n"
     ]
    }
   ],
   "source": [
    "featurizer = MultipleFeaturizer([\n",
    "    ElementProperty.from_preset('magpie'),\n",
    "    Stoichiometry(),\n",
    "    ValenceOrbital()\n",
    "])\n",
    "flen=len(featurizer.featurize(df_train['composition'][0]))\n",
    "features_train=np.zeros((len(df_train),flen))\n",
    "features_val=np.zeros((len(df_val),flen))\n",
    "features_test=np.zeros((len(df_test),flen))\n",
    "for i,comp in enumerate(df_train['composition']):\n",
    "    features_train[i,:]=featurizer.featurize(comp)\n",
    "features_train=np.nan_to_num(features_train, copy=True, nan=0.0, posinf=None, neginf=None)\n",
    "for i,comp in enumerate(df_val['composition']):\n",
    "    features_val[i,:]=featurizer.featurize(comp)\n",
    "features_val=np.nan_to_num(features_val, copy=True, nan=0.0, posinf=None, neginf=None)\n",
    "for i,comp in enumerate(df_test['composition']):\n",
    "    features_test[i,:]=featurizer.featurize(comp)\n",
    "features_test=np.nan_to_num(features_test, copy=True, nan=0.0, posinf=None, neginf=None)"
   ]
  },
  {
   "cell_type": "code",
   "execution_count": 6,
   "metadata": {},
   "outputs": [],
   "source": [
    "ytrain=df_train['disorder'].values\n",
    "yval=df_val['disorder'].values\n",
    "ytest=df_test['disorder'].values\n",
    "Xtrain=features_train\n",
    "Xval=features_val\n",
    "Xtest=features_test"
   ]
  },
  {
   "cell_type": "code",
   "execution_count": 7,
   "metadata": {},
   "outputs": [],
   "source": [
    "RF=RandomForestClassifier()\n",
    "RF.fit(Xtrain,ytrain)\n",
    "yproba_rf_val=RF.predict_proba(Xval)[:,1]         "
   ]
  },
  {
   "cell_type": "code",
   "execution_count": 8,
   "metadata": {},
   "outputs": [],
   "source": [
    "from sklearn import preprocessing\n",
    "\n",
    "Xtrain_normalized = preprocessing.normalize(Xtrain, norm='l2')\n",
    "Xval_normalized = preprocessing.normalize(Xval, norm='l2')\n",
    "Xtest_normalized = preprocessing.normalize(Xtest, norm='l2')"
   ]
  },
  {
   "cell_type": "code",
   "execution_count": 9,
   "metadata": {},
   "outputs": [],
   "source": [
    "scaler = preprocessing.StandardScaler().fit(Xtrain)\n",
    "Xtrain_scaled = scaler.transform(Xtrain)\n",
    "Xval_scaled = scaler.transform(Xval)\n",
    "Xtest_scaled = scaler.transform(Xtest)\n"
   ]
  },
  {
   "cell_type": "code",
   "execution_count": 34,
   "metadata": {},
   "outputs": [],
   "source": [
    "from sklearn.neighbors import KNeighborsClassifier, RadiusNeighborsClassifier\n",
    "NN=KNeighborsClassifier(n_neighbors=3)\n",
    "NN.fit(Xtrain_scaled,ytrain)\n",
    "yproba_nn_val=NN.predict_proba(Xval_scaled)[:,1]"
   ]
  },
  {
   "cell_type": "code",
   "execution_count": 62,
   "metadata": {},
   "outputs": [],
   "source": [
    "ypred_nn_test=NN.predict(Xtest_scaled)\n",
    "yproba_nn_test=NN.predict_proba(Xtest_scaled)[:,1]"
   ]
  },
  {
   "cell_type": "code",
   "execution_count": 55,
   "metadata": {},
   "outputs": [
    {
     "data": {
      "text/plain": [
       "0.7882624314216647"
      ]
     },
     "execution_count": 55,
     "metadata": {},
     "output_type": "execute_result"
    }
   ],
   "source": [
    "balanced_accuracy_score(ytest,ypred_nn_test)"
   ]
  },
  {
   "cell_type": "code",
   "execution_count": 56,
   "metadata": {},
   "outputs": [
    {
     "data": {
      "text/plain": [
       "0.834764631043257"
      ]
     },
     "execution_count": 56,
     "metadata": {},
     "output_type": "execute_result"
    }
   ],
   "source": [
    "recall_score(ytest,ypred_nn_test)"
   ]
  },
  {
   "cell_type": "code",
   "execution_count": 57,
   "metadata": {},
   "outputs": [
    {
     "data": {
      "text/plain": [
       "0.8307351428345335"
      ]
     },
     "execution_count": 57,
     "metadata": {},
     "output_type": "execute_result"
    }
   ],
   "source": [
    "precision_score(ytest,ypred_nn_test)"
   ]
  },
  {
   "cell_type": "code",
   "execution_count": 58,
   "metadata": {},
   "outputs": [
    {
     "data": {
      "text/plain": [
       "0.8327450124935549"
      ]
     },
     "execution_count": 58,
     "metadata": {},
     "output_type": "execute_result"
    }
   ],
   "source": [
    "f1_score(ytest,ypred_nn_test)"
   ]
  },
  {
   "cell_type": "code",
   "execution_count": 59,
   "metadata": {},
   "outputs": [
    {
     "data": {
      "text/plain": [
       "0.5772612523236575"
      ]
     },
     "execution_count": 59,
     "metadata": {},
     "output_type": "execute_result"
    }
   ],
   "source": [
    "matthews_corrcoef(ytest,ypred_nn_test)"
   ]
  },
  {
   "cell_type": "code",
   "execution_count": 63,
   "metadata": {},
   "outputs": [
    {
     "data": {
      "text/plain": [
       "0.8576735495753127"
      ]
     },
     "execution_count": 63,
     "metadata": {},
     "output_type": "execute_result"
    }
   ],
   "source": [
    "roc_auc_score(ytest,yproba_nn_test)"
   ]
  },
  {
   "cell_type": "code",
   "execution_count": null,
   "metadata": {},
   "outputs": [],
   "source": []
  },
  {
   "cell_type": "code",
   "execution_count": 31,
   "metadata": {},
   "outputs": [
    {
     "name": "stderr",
     "output_type": "stream",
     "text": [
      "Global seed set to 29\n",
      "Generating EDM: 100%|██████████| 75091/75091 [00:00<00:00, 216219.40formulae/s]\n"
     ]
    },
    {
     "name": "stdout",
     "output_type": "stream",
     "text": [
      "loading data with up to 16 elements in the formula for training\n"
     ]
    },
    {
     "name": "stderr",
     "output_type": "stream",
     "text": [
      "Generating EDM: 100%|██████████| 8344/8344 [00:00<00:00, 210027.32formulae/s]\n"
     ]
    },
    {
     "name": "stdout",
     "output_type": "stream",
     "text": [
      "loading data with up to 16 elements in the formula for validation\n"
     ]
    },
    {
     "name": "stderr",
     "output_type": "stream",
     "text": [
      "Generating EDM: 100%|██████████| 20859/20859 [00:00<00:00, 212653.34formulae/s]\n"
     ]
    },
    {
     "name": "stdout",
     "output_type": "stream",
     "text": [
      "loading data with up to 16 elements in the formula for testing\n"
     ]
    },
    {
     "name": "stderr",
     "output_type": "stream",
     "text": [
      "GPU available: True (cuda), used: False\n",
      "TPU available: False, using: 0 TPU cores\n",
      "IPU available: False, using: 0 IPUs\n",
      "HPU available: False, using: 0 HPUs\n"
     ]
    },
    {
     "name": "stdout",
     "output_type": "stream",
     "text": [
      "\n",
      "Model architecture: out_dims, d_model, N, heads\n",
      "3, 512, 3, 4\n",
      "Model size: 11987206 parameters\n",
      "\n",
      "Using BCE loss for classification task\n"
     ]
    },
    {
     "name": "stderr",
     "output_type": "stream",
     "text": [
      "C:\\Users\\patykova\\.conda\\envs\\roost\\lib\\site-packages\\pytorch_lightning\\trainer\\setup.py:176: PossibleUserWarning: GPU available but not used. Set `accelerator` and `devices` using `Trainer(accelerator='gpu', devices=1)`.\n",
      "  rank_zero_warn(\n",
      "Generating EDM: 100%|██████████| 75091/75091 [00:00<00:00, 217469.30formulae/s]\n"
     ]
    },
    {
     "name": "stdout",
     "output_type": "stream",
     "text": [
      "loading data with up to 16 elements in the formula for training\n"
     ]
    },
    {
     "name": "stderr",
     "output_type": "stream",
     "text": [
      "Generating EDM: 100%|██████████| 8344/8344 [00:00<00:00, 203327.11formulae/s]\n"
     ]
    },
    {
     "name": "stdout",
     "output_type": "stream",
     "text": [
      "loading data with up to 16 elements in the formula for validation\n"
     ]
    },
    {
     "name": "stderr",
     "output_type": "stream",
     "text": [
      "Generating EDM: 100%|██████████| 20859/20859 [00:00<00:00, 214842.41formulae/s]\n"
     ]
    },
    {
     "name": "stdout",
     "output_type": "stream",
     "text": [
      "loading data with up to 16 elements in the formula for testing\n"
     ]
    },
    {
     "name": "stderr",
     "output_type": "stream",
     "text": [
      "C:\\Users\\patykova\\.conda\\envs\\roost\\lib\\site-packages\\pytorch_lightning\\trainer\\connectors\\data_connector.py:224: PossibleUserWarning: The dataloader, predict_dataloader 0, does not have many workers which may be a bottleneck. Consider increasing the value of the `num_workers` argument` (try 16 which is the number of cpus on this machine) in the `DataLoader` init to improve performance.\n",
      "  rank_zero_warn(\n"
     ]
    },
    {
     "data": {
      "application/vnd.jupyter.widget-view+json": {
       "model_id": "811ece7f300c450bb4fcaf223108e56c",
       "version_major": 2,
       "version_minor": 0
      },
      "text/plain": [
       "Predicting: 0it [00:00, ?it/s]"
      ]
     },
     "metadata": {},
     "output_type": "display_data"
    }
   ],
   "source": [
    "with open('crabnet/crabnet_config.json','r') as f:\n",
    "    config_crabnet=json.load(f)\n",
    "\n",
    "L.seed_everything(config_crabnet['random_seed'])\n",
    "\n",
    "disorder_data_crabnet = CrabNetDataModule(config_crabnet['train_path'],\n",
    "                                   config_crabnet['val_path'],\n",
    "                                   config_crabnet['test_path'],\n",
    "                                   classification = config_crabnet['classification'],predictset='val')\n",
    "disorder_data_crabnet.prepare_data()\n",
    "valloader=disorder_data_crabnet.predict_dataloader()\n",
    "for x in valloader:\n",
    "    _,y_true,_=x\n",
    "    datalength=len(y_true)\n",
    "\n",
    "for i in range(1):\n",
    "    name='crabnet-disorder-'+str(i)\n",
    "    model_crabnet = CrabNetLightning.load_from_checkpoint('crabnet_models/crabnet_trained_models/'+name+'.ckpt')\n",
    "    trainer = Trainer()\n",
    "    formula, prediction, uncertainty=trainer.predict(model=model_crabnet,datamodule=disorder_data_crabnet)[0]\n",
    "    yproba_crabnet_val=prediction.detach().cpu().numpy()[:,0]  "
   ]
  },
  {
   "cell_type": "code",
   "execution_count": 32,
   "metadata": {},
   "outputs": [
    {
     "name": "stdout",
     "output_type": "stream",
     "text": [
      "\n",
      " Model architecture: out_dims, n_graphs, heads, internal_elem_dim\n",
      "1, 3, 3, 64\n",
      "Model size: 2426169 parameters\n",
      "\n"
     ]
    }
   ],
   "source": [
    "with open('roost/roost_config.json','r') as f:\n",
    "    config_roost=json.load(f)\n",
    "\n",
    "disorder_data_roost = RoostDataModule(config_roost['data_params']['train_path'],\n",
    "                                   config_roost['data_params']['val_path'],\n",
    "                                   config_roost['data_params']['test_path'], features=config_roost['data_params']['embed'],predictset='val')\n",
    "disorder_data_roost.prepare_data()\n",
    "valloader=disorder_data_roost.predict_dataloader()\n",
    "\n",
    "for i in range(1):\n",
    "    name='roost-disorder-'+str(i)\n",
    "    model_roost = RoostLightningClass.load_from_checkpoint('roost_models/roost_trained_models/'+name+'.ckpt')\n",
    "    model_roost.eval()\n",
    "    for x in valloader:\n",
    "        with torch.no_grad():\n",
    "            logits = model_roost(x)\n",
    "            yproba_roost_val = torch.sigmoid(logits).detach().cpu().numpy()"
   ]
  },
  {
   "cell_type": "code",
   "execution_count": 35,
   "metadata": {},
   "outputs": [],
   "source": [
    "X = np.stack((yproba_rf_val,yproba_nn_val, yproba_roost_val,yproba_crabnet_val), axis=1)\n",
    "yval=y_true"
   ]
  },
  {
   "cell_type": "code",
   "execution_count": 36,
   "metadata": {},
   "outputs": [
    {
     "data": {
      "text/html": [
       "<style>#sk-container-id-1 {\n",
       "  /* Definition of color scheme common for light and dark mode */\n",
       "  --sklearn-color-text: black;\n",
       "  --sklearn-color-line: gray;\n",
       "  /* Definition of color scheme for unfitted estimators */\n",
       "  --sklearn-color-unfitted-level-0: #fff5e6;\n",
       "  --sklearn-color-unfitted-level-1: #f6e4d2;\n",
       "  --sklearn-color-unfitted-level-2: #ffe0b3;\n",
       "  --sklearn-color-unfitted-level-3: chocolate;\n",
       "  /* Definition of color scheme for fitted estimators */\n",
       "  --sklearn-color-fitted-level-0: #f0f8ff;\n",
       "  --sklearn-color-fitted-level-1: #d4ebff;\n",
       "  --sklearn-color-fitted-level-2: #b3dbfd;\n",
       "  --sklearn-color-fitted-level-3: cornflowerblue;\n",
       "\n",
       "  /* Specific color for light theme */\n",
       "  --sklearn-color-text-on-default-background: var(--sg-text-color, var(--theme-code-foreground, var(--jp-content-font-color1, black)));\n",
       "  --sklearn-color-background: var(--sg-background-color, var(--theme-background, var(--jp-layout-color0, white)));\n",
       "  --sklearn-color-border-box: var(--sg-text-color, var(--theme-code-foreground, var(--jp-content-font-color1, black)));\n",
       "  --sklearn-color-icon: #696969;\n",
       "\n",
       "  @media (prefers-color-scheme: dark) {\n",
       "    /* Redefinition of color scheme for dark theme */\n",
       "    --sklearn-color-text-on-default-background: var(--sg-text-color, var(--theme-code-foreground, var(--jp-content-font-color1, white)));\n",
       "    --sklearn-color-background: var(--sg-background-color, var(--theme-background, var(--jp-layout-color0, #111)));\n",
       "    --sklearn-color-border-box: var(--sg-text-color, var(--theme-code-foreground, var(--jp-content-font-color1, white)));\n",
       "    --sklearn-color-icon: #878787;\n",
       "  }\n",
       "}\n",
       "\n",
       "#sk-container-id-1 {\n",
       "  color: var(--sklearn-color-text);\n",
       "}\n",
       "\n",
       "#sk-container-id-1 pre {\n",
       "  padding: 0;\n",
       "}\n",
       "\n",
       "#sk-container-id-1 input.sk-hidden--visually {\n",
       "  border: 0;\n",
       "  clip: rect(1px 1px 1px 1px);\n",
       "  clip: rect(1px, 1px, 1px, 1px);\n",
       "  height: 1px;\n",
       "  margin: -1px;\n",
       "  overflow: hidden;\n",
       "  padding: 0;\n",
       "  position: absolute;\n",
       "  width: 1px;\n",
       "}\n",
       "\n",
       "#sk-container-id-1 div.sk-dashed-wrapped {\n",
       "  border: 1px dashed var(--sklearn-color-line);\n",
       "  margin: 0 0.4em 0.5em 0.4em;\n",
       "  box-sizing: border-box;\n",
       "  padding-bottom: 0.4em;\n",
       "  background-color: var(--sklearn-color-background);\n",
       "}\n",
       "\n",
       "#sk-container-id-1 div.sk-container {\n",
       "  /* jupyter's `normalize.less` sets `[hidden] { display: none; }`\n",
       "     but bootstrap.min.css set `[hidden] { display: none !important; }`\n",
       "     so we also need the `!important` here to be able to override the\n",
       "     default hidden behavior on the sphinx rendered scikit-learn.org.\n",
       "     See: https://github.com/scikit-learn/scikit-learn/issues/21755 */\n",
       "  display: inline-block !important;\n",
       "  position: relative;\n",
       "}\n",
       "\n",
       "#sk-container-id-1 div.sk-text-repr-fallback {\n",
       "  display: none;\n",
       "}\n",
       "\n",
       "div.sk-parallel-item,\n",
       "div.sk-serial,\n",
       "div.sk-item {\n",
       "  /* draw centered vertical line to link estimators */\n",
       "  background-image: linear-gradient(var(--sklearn-color-text-on-default-background), var(--sklearn-color-text-on-default-background));\n",
       "  background-size: 2px 100%;\n",
       "  background-repeat: no-repeat;\n",
       "  background-position: center center;\n",
       "}\n",
       "\n",
       "/* Parallel-specific style estimator block */\n",
       "\n",
       "#sk-container-id-1 div.sk-parallel-item::after {\n",
       "  content: \"\";\n",
       "  width: 100%;\n",
       "  border-bottom: 2px solid var(--sklearn-color-text-on-default-background);\n",
       "  flex-grow: 1;\n",
       "}\n",
       "\n",
       "#sk-container-id-1 div.sk-parallel {\n",
       "  display: flex;\n",
       "  align-items: stretch;\n",
       "  justify-content: center;\n",
       "  background-color: var(--sklearn-color-background);\n",
       "  position: relative;\n",
       "}\n",
       "\n",
       "#sk-container-id-1 div.sk-parallel-item {\n",
       "  display: flex;\n",
       "  flex-direction: column;\n",
       "}\n",
       "\n",
       "#sk-container-id-1 div.sk-parallel-item:first-child::after {\n",
       "  align-self: flex-end;\n",
       "  width: 50%;\n",
       "}\n",
       "\n",
       "#sk-container-id-1 div.sk-parallel-item:last-child::after {\n",
       "  align-self: flex-start;\n",
       "  width: 50%;\n",
       "}\n",
       "\n",
       "#sk-container-id-1 div.sk-parallel-item:only-child::after {\n",
       "  width: 0;\n",
       "}\n",
       "\n",
       "/* Serial-specific style estimator block */\n",
       "\n",
       "#sk-container-id-1 div.sk-serial {\n",
       "  display: flex;\n",
       "  flex-direction: column;\n",
       "  align-items: center;\n",
       "  background-color: var(--sklearn-color-background);\n",
       "  padding-right: 1em;\n",
       "  padding-left: 1em;\n",
       "}\n",
       "\n",
       "\n",
       "/* Toggleable style: style used for estimator/Pipeline/ColumnTransformer box that is\n",
       "clickable and can be expanded/collapsed.\n",
       "- Pipeline and ColumnTransformer use this feature and define the default style\n",
       "- Estimators will overwrite some part of the style using the `sk-estimator` class\n",
       "*/\n",
       "\n",
       "/* Pipeline and ColumnTransformer style (default) */\n",
       "\n",
       "#sk-container-id-1 div.sk-toggleable {\n",
       "  /* Default theme specific background. It is overwritten whether we have a\n",
       "  specific estimator or a Pipeline/ColumnTransformer */\n",
       "  background-color: var(--sklearn-color-background);\n",
       "}\n",
       "\n",
       "/* Toggleable label */\n",
       "#sk-container-id-1 label.sk-toggleable__label {\n",
       "  cursor: pointer;\n",
       "  display: block;\n",
       "  width: 100%;\n",
       "  margin-bottom: 0;\n",
       "  padding: 0.5em;\n",
       "  box-sizing: border-box;\n",
       "  text-align: center;\n",
       "}\n",
       "\n",
       "#sk-container-id-1 label.sk-toggleable__label-arrow:before {\n",
       "  /* Arrow on the left of the label */\n",
       "  content: \"▸\";\n",
       "  float: left;\n",
       "  margin-right: 0.25em;\n",
       "  color: var(--sklearn-color-icon);\n",
       "}\n",
       "\n",
       "#sk-container-id-1 label.sk-toggleable__label-arrow:hover:before {\n",
       "  color: var(--sklearn-color-text);\n",
       "}\n",
       "\n",
       "/* Toggleable content - dropdown */\n",
       "\n",
       "#sk-container-id-1 div.sk-toggleable__content {\n",
       "  max-height: 0;\n",
       "  max-width: 0;\n",
       "  overflow: hidden;\n",
       "  text-align: left;\n",
       "  /* unfitted */\n",
       "  background-color: var(--sklearn-color-unfitted-level-0);\n",
       "}\n",
       "\n",
       "#sk-container-id-1 div.sk-toggleable__content.fitted {\n",
       "  /* fitted */\n",
       "  background-color: var(--sklearn-color-fitted-level-0);\n",
       "}\n",
       "\n",
       "#sk-container-id-1 div.sk-toggleable__content pre {\n",
       "  margin: 0.2em;\n",
       "  border-radius: 0.25em;\n",
       "  color: var(--sklearn-color-text);\n",
       "  /* unfitted */\n",
       "  background-color: var(--sklearn-color-unfitted-level-0);\n",
       "}\n",
       "\n",
       "#sk-container-id-1 div.sk-toggleable__content.fitted pre {\n",
       "  /* unfitted */\n",
       "  background-color: var(--sklearn-color-fitted-level-0);\n",
       "}\n",
       "\n",
       "#sk-container-id-1 input.sk-toggleable__control:checked~div.sk-toggleable__content {\n",
       "  /* Expand drop-down */\n",
       "  max-height: 200px;\n",
       "  max-width: 100%;\n",
       "  overflow: auto;\n",
       "}\n",
       "\n",
       "#sk-container-id-1 input.sk-toggleable__control:checked~label.sk-toggleable__label-arrow:before {\n",
       "  content: \"▾\";\n",
       "}\n",
       "\n",
       "/* Pipeline/ColumnTransformer-specific style */\n",
       "\n",
       "#sk-container-id-1 div.sk-label input.sk-toggleable__control:checked~label.sk-toggleable__label {\n",
       "  color: var(--sklearn-color-text);\n",
       "  background-color: var(--sklearn-color-unfitted-level-2);\n",
       "}\n",
       "\n",
       "#sk-container-id-1 div.sk-label.fitted input.sk-toggleable__control:checked~label.sk-toggleable__label {\n",
       "  background-color: var(--sklearn-color-fitted-level-2);\n",
       "}\n",
       "\n",
       "/* Estimator-specific style */\n",
       "\n",
       "/* Colorize estimator box */\n",
       "#sk-container-id-1 div.sk-estimator input.sk-toggleable__control:checked~label.sk-toggleable__label {\n",
       "  /* unfitted */\n",
       "  background-color: var(--sklearn-color-unfitted-level-2);\n",
       "}\n",
       "\n",
       "#sk-container-id-1 div.sk-estimator.fitted input.sk-toggleable__control:checked~label.sk-toggleable__label {\n",
       "  /* fitted */\n",
       "  background-color: var(--sklearn-color-fitted-level-2);\n",
       "}\n",
       "\n",
       "#sk-container-id-1 div.sk-label label.sk-toggleable__label,\n",
       "#sk-container-id-1 div.sk-label label {\n",
       "  /* The background is the default theme color */\n",
       "  color: var(--sklearn-color-text-on-default-background);\n",
       "}\n",
       "\n",
       "/* On hover, darken the color of the background */\n",
       "#sk-container-id-1 div.sk-label:hover label.sk-toggleable__label {\n",
       "  color: var(--sklearn-color-text);\n",
       "  background-color: var(--sklearn-color-unfitted-level-2);\n",
       "}\n",
       "\n",
       "/* Label box, darken color on hover, fitted */\n",
       "#sk-container-id-1 div.sk-label.fitted:hover label.sk-toggleable__label.fitted {\n",
       "  color: var(--sklearn-color-text);\n",
       "  background-color: var(--sklearn-color-fitted-level-2);\n",
       "}\n",
       "\n",
       "/* Estimator label */\n",
       "\n",
       "#sk-container-id-1 div.sk-label label {\n",
       "  font-family: monospace;\n",
       "  font-weight: bold;\n",
       "  display: inline-block;\n",
       "  line-height: 1.2em;\n",
       "}\n",
       "\n",
       "#sk-container-id-1 div.sk-label-container {\n",
       "  text-align: center;\n",
       "}\n",
       "\n",
       "/* Estimator-specific */\n",
       "#sk-container-id-1 div.sk-estimator {\n",
       "  font-family: monospace;\n",
       "  border: 1px dotted var(--sklearn-color-border-box);\n",
       "  border-radius: 0.25em;\n",
       "  box-sizing: border-box;\n",
       "  margin-bottom: 0.5em;\n",
       "  /* unfitted */\n",
       "  background-color: var(--sklearn-color-unfitted-level-0);\n",
       "}\n",
       "\n",
       "#sk-container-id-1 div.sk-estimator.fitted {\n",
       "  /* fitted */\n",
       "  background-color: var(--sklearn-color-fitted-level-0);\n",
       "}\n",
       "\n",
       "/* on hover */\n",
       "#sk-container-id-1 div.sk-estimator:hover {\n",
       "  /* unfitted */\n",
       "  background-color: var(--sklearn-color-unfitted-level-2);\n",
       "}\n",
       "\n",
       "#sk-container-id-1 div.sk-estimator.fitted:hover {\n",
       "  /* fitted */\n",
       "  background-color: var(--sklearn-color-fitted-level-2);\n",
       "}\n",
       "\n",
       "/* Specification for estimator info (e.g. \"i\" and \"?\") */\n",
       "\n",
       "/* Common style for \"i\" and \"?\" */\n",
       "\n",
       ".sk-estimator-doc-link,\n",
       "a:link.sk-estimator-doc-link,\n",
       "a:visited.sk-estimator-doc-link {\n",
       "  float: right;\n",
       "  font-size: smaller;\n",
       "  line-height: 1em;\n",
       "  font-family: monospace;\n",
       "  background-color: var(--sklearn-color-background);\n",
       "  border-radius: 1em;\n",
       "  height: 1em;\n",
       "  width: 1em;\n",
       "  text-decoration: none !important;\n",
       "  margin-left: 1ex;\n",
       "  /* unfitted */\n",
       "  border: var(--sklearn-color-unfitted-level-1) 1pt solid;\n",
       "  color: var(--sklearn-color-unfitted-level-1);\n",
       "}\n",
       "\n",
       ".sk-estimator-doc-link.fitted,\n",
       "a:link.sk-estimator-doc-link.fitted,\n",
       "a:visited.sk-estimator-doc-link.fitted {\n",
       "  /* fitted */\n",
       "  border: var(--sklearn-color-fitted-level-1) 1pt solid;\n",
       "  color: var(--sklearn-color-fitted-level-1);\n",
       "}\n",
       "\n",
       "/* On hover */\n",
       "div.sk-estimator:hover .sk-estimator-doc-link:hover,\n",
       ".sk-estimator-doc-link:hover,\n",
       "div.sk-label-container:hover .sk-estimator-doc-link:hover,\n",
       ".sk-estimator-doc-link:hover {\n",
       "  /* unfitted */\n",
       "  background-color: var(--sklearn-color-unfitted-level-3);\n",
       "  color: var(--sklearn-color-background);\n",
       "  text-decoration: none;\n",
       "}\n",
       "\n",
       "div.sk-estimator.fitted:hover .sk-estimator-doc-link.fitted:hover,\n",
       ".sk-estimator-doc-link.fitted:hover,\n",
       "div.sk-label-container:hover .sk-estimator-doc-link.fitted:hover,\n",
       ".sk-estimator-doc-link.fitted:hover {\n",
       "  /* fitted */\n",
       "  background-color: var(--sklearn-color-fitted-level-3);\n",
       "  color: var(--sklearn-color-background);\n",
       "  text-decoration: none;\n",
       "}\n",
       "\n",
       "/* Span, style for the box shown on hovering the info icon */\n",
       ".sk-estimator-doc-link span {\n",
       "  display: none;\n",
       "  z-index: 9999;\n",
       "  position: relative;\n",
       "  font-weight: normal;\n",
       "  right: .2ex;\n",
       "  padding: .5ex;\n",
       "  margin: .5ex;\n",
       "  width: min-content;\n",
       "  min-width: 20ex;\n",
       "  max-width: 50ex;\n",
       "  color: var(--sklearn-color-text);\n",
       "  box-shadow: 2pt 2pt 4pt #999;\n",
       "  /* unfitted */\n",
       "  background: var(--sklearn-color-unfitted-level-0);\n",
       "  border: .5pt solid var(--sklearn-color-unfitted-level-3);\n",
       "}\n",
       "\n",
       ".sk-estimator-doc-link.fitted span {\n",
       "  /* fitted */\n",
       "  background: var(--sklearn-color-fitted-level-0);\n",
       "  border: var(--sklearn-color-fitted-level-3);\n",
       "}\n",
       "\n",
       ".sk-estimator-doc-link:hover span {\n",
       "  display: block;\n",
       "}\n",
       "\n",
       "/* \"?\"-specific style due to the `<a>` HTML tag */\n",
       "\n",
       "#sk-container-id-1 a.estimator_doc_link {\n",
       "  float: right;\n",
       "  font-size: 1rem;\n",
       "  line-height: 1em;\n",
       "  font-family: monospace;\n",
       "  background-color: var(--sklearn-color-background);\n",
       "  border-radius: 1rem;\n",
       "  height: 1rem;\n",
       "  width: 1rem;\n",
       "  text-decoration: none;\n",
       "  /* unfitted */\n",
       "  color: var(--sklearn-color-unfitted-level-1);\n",
       "  border: var(--sklearn-color-unfitted-level-1) 1pt solid;\n",
       "}\n",
       "\n",
       "#sk-container-id-1 a.estimator_doc_link.fitted {\n",
       "  /* fitted */\n",
       "  border: var(--sklearn-color-fitted-level-1) 1pt solid;\n",
       "  color: var(--sklearn-color-fitted-level-1);\n",
       "}\n",
       "\n",
       "/* On hover */\n",
       "#sk-container-id-1 a.estimator_doc_link:hover {\n",
       "  /* unfitted */\n",
       "  background-color: var(--sklearn-color-unfitted-level-3);\n",
       "  color: var(--sklearn-color-background);\n",
       "  text-decoration: none;\n",
       "}\n",
       "\n",
       "#sk-container-id-1 a.estimator_doc_link.fitted:hover {\n",
       "  /* fitted */\n",
       "  background-color: var(--sklearn-color-fitted-level-3);\n",
       "}\n",
       "</style><div id=\"sk-container-id-1\" class=\"sk-top-container\"><div class=\"sk-text-repr-fallback\"><pre>LogisticRegression()</pre><b>In a Jupyter environment, please rerun this cell to show the HTML representation or trust the notebook. <br />On GitHub, the HTML representation is unable to render, please try loading this page with nbviewer.org.</b></div><div class=\"sk-container\" hidden><div class=\"sk-item\"><div class=\"sk-estimator fitted sk-toggleable\"><input class=\"sk-toggleable__control sk-hidden--visually\" id=\"sk-estimator-id-1\" type=\"checkbox\" checked><label for=\"sk-estimator-id-1\" class=\"sk-toggleable__label fitted sk-toggleable__label-arrow fitted\">&nbsp;&nbsp;LogisticRegression<a class=\"sk-estimator-doc-link fitted\" rel=\"noreferrer\" target=\"_blank\" href=\"https://scikit-learn.org/1.4/modules/generated/sklearn.linear_model.LogisticRegression.html\">?<span>Documentation for LogisticRegression</span></a><span class=\"sk-estimator-doc-link fitted\">i<span>Fitted</span></span></label><div class=\"sk-toggleable__content fitted\"><pre>LogisticRegression()</pre></div> </div></div></div></div>"
      ],
      "text/plain": [
       "LogisticRegression()"
      ]
     },
     "execution_count": 36,
     "metadata": {},
     "output_type": "execute_result"
    }
   ],
   "source": [
    "from sklearn.linear_model import LogisticRegression\n",
    "\n",
    "meta_model=LogisticRegression()\n",
    "meta_model.fit(X,y_true)"
   ]
  },
  {
   "cell_type": "code",
   "execution_count": 37,
   "metadata": {},
   "outputs": [
    {
     "data": {
      "text/plain": [
       "0.9083173537871524"
      ]
     },
     "execution_count": 37,
     "metadata": {},
     "output_type": "execute_result"
    }
   ],
   "source": [
    "meta_model.score(X,y_true)"
   ]
  },
  {
   "cell_type": "code",
   "execution_count": 39,
   "metadata": {},
   "outputs": [],
   "source": [
    "yproba_rf_test=RF.predict_proba(Xtest)[:,1] \n",
    "yproba_nn_test=NN.predict_proba(Xtest_scaled)[:,1] "
   ]
  },
  {
   "cell_type": "code",
   "execution_count": 40,
   "metadata": {},
   "outputs": [
    {
     "name": "stderr",
     "output_type": "stream",
     "text": [
      "Generating EDM: 100%|██████████| 75091/75091 [00:00<00:00, 213636.51formulae/s]\n"
     ]
    },
    {
     "name": "stdout",
     "output_type": "stream",
     "text": [
      "loading data with up to 16 elements in the formula for training\n"
     ]
    },
    {
     "name": "stderr",
     "output_type": "stream",
     "text": [
      "Generating EDM: 100%|██████████| 8344/8344 [00:00<00:00, 213757.74formulae/s]\n"
     ]
    },
    {
     "name": "stdout",
     "output_type": "stream",
     "text": [
      "loading data with up to 16 elements in the formula for validation\n"
     ]
    },
    {
     "name": "stderr",
     "output_type": "stream",
     "text": [
      "Generating EDM: 100%|██████████| 20859/20859 [00:00<00:00, 213737.05formulae/s]\n"
     ]
    },
    {
     "name": "stdout",
     "output_type": "stream",
     "text": [
      "loading data with up to 16 elements in the formula for testing\n"
     ]
    },
    {
     "name": "stderr",
     "output_type": "stream",
     "text": [
      "GPU available: True (cuda), used: False\n",
      "TPU available: False, using: 0 TPU cores\n",
      "IPU available: False, using: 0 IPUs\n",
      "HPU available: False, using: 0 HPUs\n"
     ]
    },
    {
     "name": "stdout",
     "output_type": "stream",
     "text": [
      "\n",
      "Model architecture: out_dims, d_model, N, heads\n",
      "3, 512, 3, 4\n",
      "Model size: 11987206 parameters\n",
      "\n",
      "Using BCE loss for classification task\n"
     ]
    },
    {
     "name": "stderr",
     "output_type": "stream",
     "text": [
      "C:\\Users\\patykova\\.conda\\envs\\roost\\lib\\site-packages\\pytorch_lightning\\trainer\\setup.py:176: PossibleUserWarning: GPU available but not used. Set `accelerator` and `devices` using `Trainer(accelerator='gpu', devices=1)`.\n",
      "  rank_zero_warn(\n",
      "Generating EDM: 100%|██████████| 75091/75091 [00:00<00:00, 216064.25formulae/s]\n"
     ]
    },
    {
     "name": "stdout",
     "output_type": "stream",
     "text": [
      "loading data with up to 16 elements in the formula for training\n"
     ]
    },
    {
     "name": "stderr",
     "output_type": "stream",
     "text": [
      "Generating EDM: 100%|██████████| 8344/8344 [00:00<00:00, 208408.90formulae/s]\n"
     ]
    },
    {
     "name": "stdout",
     "output_type": "stream",
     "text": [
      "loading data with up to 16 elements in the formula for validation\n"
     ]
    },
    {
     "name": "stderr",
     "output_type": "stream",
     "text": [
      "Generating EDM: 100%|██████████| 20859/20859 [00:00<00:00, 209440.08formulae/s]\n",
      "C:\\Users\\patykova\\.conda\\envs\\roost\\lib\\site-packages\\pytorch_lightning\\trainer\\connectors\\data_connector.py:224: PossibleUserWarning: The dataloader, predict_dataloader 0, does not have many workers which may be a bottleneck. Consider increasing the value of the `num_workers` argument` (try 16 which is the number of cpus on this machine) in the `DataLoader` init to improve performance.\n",
      "  rank_zero_warn(\n"
     ]
    },
    {
     "name": "stdout",
     "output_type": "stream",
     "text": [
      "loading data with up to 16 elements in the formula for testing\n"
     ]
    },
    {
     "data": {
      "application/vnd.jupyter.widget-view+json": {
       "model_id": "762ed168e09e4e95a75281508092cde3",
       "version_major": 2,
       "version_minor": 0
      },
      "text/plain": [
       "Predicting: 0it [00:00, ?it/s]"
      ]
     },
     "metadata": {},
     "output_type": "display_data"
    }
   ],
   "source": [
    "with open('crabnet/crabnet_config.json','r') as f:\n",
    "    config_crabnet=json.load(f)\n",
    "\n",
    "disorder_data_crabnet = CrabNetDataModule(config_crabnet['train_path'],\n",
    "                                   config_crabnet['val_path'],\n",
    "                                   config_crabnet['test_path'],\n",
    "                                   classification = config_crabnet['classification'],predictset='test')\n",
    "disorder_data_crabnet.prepare_data()\n",
    "testloader=disorder_data_crabnet.predict_dataloader()\n",
    "for x in testloader:\n",
    "    _,y_true_test,_=x\n",
    "\n",
    "for i in range(1):\n",
    "    name='crabnet-disorder-'+str(i)\n",
    "    model_crabnet = CrabNetLightning.load_from_checkpoint('crabnet_models/crabnet_trained_models/'+name+'.ckpt')\n",
    "    trainer = Trainer()\n",
    "    formula, prediction, uncertainty=trainer.predict(model=model_crabnet,datamodule=disorder_data_crabnet)[0]\n",
    "    yproba_crabnet_test=prediction.detach().cpu().numpy()[:,0]  "
   ]
  },
  {
   "cell_type": "code",
   "execution_count": 41,
   "metadata": {},
   "outputs": [
    {
     "name": "stdout",
     "output_type": "stream",
     "text": [
      "\n",
      " Model architecture: out_dims, n_graphs, heads, internal_elem_dim\n",
      "1, 3, 3, 64\n",
      "Model size: 2426169 parameters\n",
      "\n"
     ]
    }
   ],
   "source": [
    "with open('roost/roost_config.json','r') as f:\n",
    "    config_roost=json.load(f)\n",
    "\n",
    "disorder_data_roost = RoostDataModule(config_roost['data_params']['train_path'],\n",
    "                                   config_roost['data_params']['val_path'],\n",
    "                                   config_roost['data_params']['test_path'], features=config_roost['data_params']['embed'],predictset='test')\n",
    "disorder_data_roost.prepare_data()\n",
    "testloader=disorder_data_roost.predict_dataloader()\n",
    "\n",
    "for i in range(1):\n",
    "    name='roost-disorder-'+str(i)\n",
    "    model_roost = RoostLightningClass.load_from_checkpoint('roost_models/roost_trained_models/'+name+'.ckpt')\n",
    "    model_roost.eval()\n",
    "    for x in testloader:\n",
    "        with torch.no_grad():\n",
    "            logits = model_roost(x)\n",
    "            yproba_roost_test = torch.sigmoid(logits).detach().cpu().numpy()"
   ]
  },
  {
   "cell_type": "code",
   "execution_count": 64,
   "metadata": {},
   "outputs": [
    {
     "data": {
      "text/plain": [
       "0.9056522364447002"
      ]
     },
     "execution_count": 64,
     "metadata": {},
     "output_type": "execute_result"
    }
   ],
   "source": [
    "XX = np.stack((yproba_rf_test, yproba_nn_test, yproba_roost_test,yproba_crabnet_test), axis=1)\n",
    "meta_model.score(XX,y_true_test)"
   ]
  },
  {
   "cell_type": "code",
   "execution_count": 65,
   "metadata": {},
   "outputs": [],
   "source": [
    "yproba=meta_model.predict_proba(XX)[:,1]\n",
    "y_pred=yproba>0.5"
   ]
  },
  {
   "cell_type": "code",
   "execution_count": 44,
   "metadata": {},
   "outputs": [],
   "source": []
  },
  {
   "cell_type": "code",
   "execution_count": 66,
   "metadata": {},
   "outputs": [
    {
     "data": {
      "text/plain": [
       "0.9041167045903824"
      ]
     },
     "execution_count": 66,
     "metadata": {},
     "output_type": "execute_result"
    }
   ],
   "source": [
    "balanced_accuracy_score(y_true_test,y_pred)"
   ]
  },
  {
   "cell_type": "code",
   "execution_count": 46,
   "metadata": {},
   "outputs": [
    {
     "data": {
      "text/plain": [
       "0.9115776081424937"
      ]
     },
     "execution_count": 46,
     "metadata": {},
     "output_type": "execute_result"
    }
   ],
   "source": [
    "recall_score(y_true_test,y_pred)"
   ]
  },
  {
   "cell_type": "code",
   "execution_count": 47,
   "metadata": {},
   "outputs": [
    {
     "data": {
      "text/plain": [
       "0.9305194805194805"
      ]
     },
     "execution_count": 47,
     "metadata": {},
     "output_type": "execute_result"
    }
   ],
   "source": [
    "precision_score(y_true_test,y_pred)"
   ]
  },
  {
   "cell_type": "code",
   "execution_count": 48,
   "metadata": {},
   "outputs": [
    {
     "data": {
      "text/plain": [
       "0.8042536356772831"
      ]
     },
     "execution_count": 48,
     "metadata": {},
     "output_type": "execute_result"
    }
   ],
   "source": [
    "matthews_corrcoef(y_true_test,y_pred)"
   ]
  },
  {
   "cell_type": "code",
   "execution_count": 67,
   "metadata": {},
   "outputs": [
    {
     "data": {
      "text/plain": [
       "0.9609318816184103"
      ]
     },
     "execution_count": 67,
     "metadata": {},
     "output_type": "execute_result"
    }
   ],
   "source": [
    "roc_auc_score(y_true_test,yproba)"
   ]
  },
  {
   "cell_type": "code",
   "execution_count": null,
   "metadata": {},
   "outputs": [],
   "source": [
    "import matplotlib.pyplot as plt"
   ]
  },
  {
   "cell_type": "code",
   "execution_count": null,
   "metadata": {},
   "outputs": [
    {
     "data": {
      "image/png": "[encoded data removed]",
      "text/plain": [
       "<Figure size 640x480 with 1 Axes>"
      ]
     },
     "metadata": {},
     "output_type": "display_data"
    }
   ],
   "source": [
    "plt.hist(y_pred_proba_crabnet,bins=50,range=(0,1), alpha=0.5)\n",
    "plt.hist(y_pred_proba_roost,bins=50,range=(0,1), alpha=0.5)\n",
    "plt.show()"
   ]
  },
  {
   "cell_type": "code",
   "execution_count": null,
   "metadata": {},
   "outputs": [
    {
     "data": {
      "image/png": "[encoded data removed]",
      "text/plain": [
       "<Figure size 640x480 with 1 Axes>"
      ]
     },
     "metadata": {},
     "output_type": "display_data"
    }
   ],
   "source": [
    "plt.hist(np.abs(y_pred_proba_roost-y_pred_proba_crabnet),bins=50,range=(0,1), alpha=0.5)\n",
    "plt.show()"
   ]
  },
  {
   "cell_type": "code",
   "execution_count": null,
   "metadata": {},
   "outputs": [
    {
     "data": {
      "text/plain": [
       "0.880675008389664"
      ]
     },
     "execution_count": 40,
     "metadata": {},
     "output_type": "execute_result"
    }
   ],
   "source": [
    "accuracy_score(y_pred_roost,y_pred_crabnet)"
   ]
  },
  {
   "cell_type": "code",
   "execution_count": null,
   "metadata": {},
   "outputs": [],
   "source": [
    "df=pd.DataFrame()\n",
    "df['formula']=formula\n",
    "df['label']=y_true\n",
    "df['crabnet']=y_pred_proba_crabnet\n",
    "df['roost']=y_pred_proba_roost\n",
    "df['crabnet_label']=y_pred_crabnet.astype(int)\n",
    "df['roost_label']=y_pred_roost.astype(int)"
   ]
  },
  {
   "cell_type": "code",
   "execution_count": null,
   "metadata": {},
   "outputs": [
    {
     "data": {
      "text/html": [
       "<div>\n",
       "<style scoped>\n",
       "    .dataframe tbody tr th:only-of-type {\n",
       "        vertical-align: middle;\n",
       "    }\n",
       "\n",
       "    .dataframe tbody tr th {\n",
       "        vertical-align: top;\n",
       "    }\n",
       "\n",
       "    .dataframe thead th {\n",
       "        text-align: right;\n",
       "    }\n",
       "</style>\n",
       "<table border=\"1\" class=\"dataframe\">\n",
       "  <thead>\n",
       "    <tr style=\"text-align: right;\">\n",
       "      <th></th>\n",
       "      <th>formula</th>\n",
       "      <th>label</th>\n",
       "      <th>crabnet</th>\n",
       "      <th>roost</th>\n",
       "      <th>crabnet_label</th>\n",
       "      <th>roost_label</th>\n",
       "    </tr>\n",
       "  </thead>\n",
       "  <tbody>\n",
       "    <tr>\n",
       "      <th>45</th>\n",
       "      <td>Al6 Au2.25 Eu2 Si2.75</td>\n",
       "      <td>1.0</td>\n",
       "      <td>0.996719</td>\n",
       "      <td>0.323088</td>\n",
       "      <td>1</td>\n",
       "      <td>0</td>\n",
       "    </tr>\n",
       "    <tr>\n",
       "      <th>46</th>\n",
       "      <td>In11.76 Na7</td>\n",
       "      <td>1.0</td>\n",
       "      <td>0.752937</td>\n",
       "      <td>0.482390</td>\n",
       "      <td>1</td>\n",
       "      <td>0</td>\n",
       "    </tr>\n",
       "    <tr>\n",
       "      <th>54</th>\n",
       "      <td>Ni2 Pr0.945</td>\n",
       "      <td>1.0</td>\n",
       "      <td>0.997669</td>\n",
       "      <td>0.059760</td>\n",
       "      <td>1</td>\n",
       "      <td>0</td>\n",
       "    </tr>\n",
       "    <tr>\n",
       "      <th>56</th>\n",
       "      <td>Ni1 Pd1 Si2</td>\n",
       "      <td>1.0</td>\n",
       "      <td>0.865808</td>\n",
       "      <td>0.359713</td>\n",
       "      <td>1</td>\n",
       "      <td>0</td>\n",
       "    </tr>\n",
       "    <tr>\n",
       "      <th>59</th>\n",
       "      <td>Mn1 Nb2 O8 Zn2</td>\n",
       "      <td>0.0</td>\n",
       "      <td>0.141470</td>\n",
       "      <td>0.625605</td>\n",
       "      <td>0</td>\n",
       "      <td>1</td>\n",
       "    </tr>\n",
       "    <tr>\n",
       "      <th>...</th>\n",
       "      <td>...</td>\n",
       "      <td>...</td>\n",
       "      <td>...</td>\n",
       "      <td>...</td>\n",
       "      <td>...</td>\n",
       "      <td>...</td>\n",
       "    </tr>\n",
       "    <tr>\n",
       "      <th>20819</th>\n",
       "      <td>Ba3 O15 Ta5</td>\n",
       "      <td>0.0</td>\n",
       "      <td>0.109092</td>\n",
       "      <td>0.584031</td>\n",
       "      <td>0</td>\n",
       "      <td>1</td>\n",
       "    </tr>\n",
       "    <tr>\n",
       "      <th>20822</th>\n",
       "      <td>Dy4 Ni12 Sn25</td>\n",
       "      <td>0.0</td>\n",
       "      <td>0.322993</td>\n",
       "      <td>0.972229</td>\n",
       "      <td>0</td>\n",
       "      <td>1</td>\n",
       "    </tr>\n",
       "    <tr>\n",
       "      <th>20823</th>\n",
       "      <td>Nb4 O0.6 Rb6 S24.4</td>\n",
       "      <td>1.0</td>\n",
       "      <td>0.621940</td>\n",
       "      <td>0.116999</td>\n",
       "      <td>1</td>\n",
       "      <td>0</td>\n",
       "    </tr>\n",
       "    <tr>\n",
       "      <th>20843</th>\n",
       "      <td>H5 Eu2 Rh1</td>\n",
       "      <td>1.0</td>\n",
       "      <td>0.634416</td>\n",
       "      <td>0.385636</td>\n",
       "      <td>1</td>\n",
       "      <td>0</td>\n",
       "    </tr>\n",
       "    <tr>\n",
       "      <th>20855</th>\n",
       "      <td>Al0.54 Ca1 N3 Si1.38</td>\n",
       "      <td>1.0</td>\n",
       "      <td>0.998758</td>\n",
       "      <td>0.421218</td>\n",
       "      <td>1</td>\n",
       "      <td>0</td>\n",
       "    </tr>\n",
       "  </tbody>\n",
       "</table>\n",
       "<p>1805 rows × 6 columns</p>\n",
       "</div>"
      ],
      "text/plain": [
       "                     formula  label   crabnet     roost  crabnet_label  \\\n",
       "45     Al6 Au2.25 Eu2 Si2.75    1.0  0.996719  0.323088              1   \n",
       "46               In11.76 Na7    1.0  0.752937  0.482390              1   \n",
       "54               Ni2 Pr0.945    1.0  0.997669  0.059760              1   \n",
       "56               Ni1 Pd1 Si2    1.0  0.865808  0.359713              1   \n",
       "59            Mn1 Nb2 O8 Zn2    0.0  0.141470  0.625605              0   \n",
       "...                      ...    ...       ...       ...            ...   \n",
       "20819            Ba3 O15 Ta5    0.0  0.109092  0.584031              0   \n",
       "20822          Dy4 Ni12 Sn25    0.0  0.322993  0.972229              0   \n",
       "20823     Nb4 O0.6 Rb6 S24.4    1.0  0.621940  0.116999              1   \n",
       "20843             H5 Eu2 Rh1    1.0  0.634416  0.385636              1   \n",
       "20855   Al0.54 Ca1 N3 Si1.38    1.0  0.998758  0.421218              1   \n",
       "\n",
       "       roost_label  \n",
       "45               0  \n",
       "46               0  \n",
       "54               0  \n",
       "56               0  \n",
       "59               1  \n",
       "...            ...  \n",
       "20819            1  \n",
       "20822            1  \n",
       "20823            0  \n",
       "20843            0  \n",
       "20855            0  \n",
       "\n",
       "[1805 rows x 6 columns]"
      ]
     },
     "execution_count": 48,
     "metadata": {},
     "output_type": "execute_result"
    }
   ],
   "source": [
    "da=df.loc[df['label']==df['crabnet_label']]\n",
    "db=da.loc[da['label']!=da['roost_label']]\n",
    "db"
   ]
  },
  {
   "cell_type": "code",
   "execution_count": null,
   "metadata": {},
   "outputs": [
    {
     "data": {
      "text/html": [
       "<div>\n",
       "<style scoped>\n",
       "    .dataframe tbody tr th:only-of-type {\n",
       "        vertical-align: middle;\n",
       "    }\n",
       "\n",
       "    .dataframe tbody tr th {\n",
       "        vertical-align: top;\n",
       "    }\n",
       "\n",
       "    .dataframe thead th {\n",
       "        text-align: right;\n",
       "    }\n",
       "</style>\n",
       "<table border=\"1\" class=\"dataframe\">\n",
       "  <thead>\n",
       "    <tr style=\"text-align: right;\">\n",
       "      <th></th>\n",
       "      <th>formula</th>\n",
       "      <th>label</th>\n",
       "      <th>crabnet</th>\n",
       "      <th>roost</th>\n",
       "      <th>crabnet_label</th>\n",
       "      <th>roost_label</th>\n",
       "    </tr>\n",
       "  </thead>\n",
       "  <tbody>\n",
       "    <tr>\n",
       "      <th>3</th>\n",
       "      <td>Te2 V1.04</td>\n",
       "      <td>0.0</td>\n",
       "      <td>0.899129</td>\n",
       "      <td>0.156443</td>\n",
       "      <td>1</td>\n",
       "      <td>0</td>\n",
       "    </tr>\n",
       "    <tr>\n",
       "      <th>16</th>\n",
       "      <td>Lu5 Mo2 O12</td>\n",
       "      <td>1.0</td>\n",
       "      <td>0.215111</td>\n",
       "      <td>0.528088</td>\n",
       "      <td>0</td>\n",
       "      <td>1</td>\n",
       "    </tr>\n",
       "    <tr>\n",
       "      <th>33</th>\n",
       "      <td>Mo4 O22 P4 Rb3</td>\n",
       "      <td>0.0</td>\n",
       "      <td>0.832558</td>\n",
       "      <td>0.121034</td>\n",
       "      <td>1</td>\n",
       "      <td>0</td>\n",
       "    </tr>\n",
       "    <tr>\n",
       "      <th>44</th>\n",
       "      <td>H54 Cl4 Co3 N33</td>\n",
       "      <td>1.0</td>\n",
       "      <td>0.320666</td>\n",
       "      <td>0.534450</td>\n",
       "      <td>0</td>\n",
       "      <td>1</td>\n",
       "    </tr>\n",
       "    <tr>\n",
       "      <th>75</th>\n",
       "      <td>Cu1 O7 V2 Zn1</td>\n",
       "      <td>1.0</td>\n",
       "      <td>0.208742</td>\n",
       "      <td>0.640481</td>\n",
       "      <td>0</td>\n",
       "      <td>1</td>\n",
       "    </tr>\n",
       "    <tr>\n",
       "      <th>...</th>\n",
       "      <td>...</td>\n",
       "      <td>...</td>\n",
       "      <td>...</td>\n",
       "      <td>...</td>\n",
       "      <td>...</td>\n",
       "      <td>...</td>\n",
       "    </tr>\n",
       "    <tr>\n",
       "      <th>20709</th>\n",
       "      <td>Cu0.5 Nb1 Se2</td>\n",
       "      <td>1.0</td>\n",
       "      <td>0.080588</td>\n",
       "      <td>0.862991</td>\n",
       "      <td>0</td>\n",
       "      <td>1</td>\n",
       "    </tr>\n",
       "    <tr>\n",
       "      <th>20715</th>\n",
       "      <td>C6 H20 Cl4 Hg1 N2</td>\n",
       "      <td>0.0</td>\n",
       "      <td>0.612588</td>\n",
       "      <td>0.094749</td>\n",
       "      <td>1</td>\n",
       "      <td>0</td>\n",
       "    </tr>\n",
       "    <tr>\n",
       "      <th>20717</th>\n",
       "      <td>Ba1 Nb0.5 O3 Tb0.5</td>\n",
       "      <td>1.0</td>\n",
       "      <td>0.341908</td>\n",
       "      <td>0.519833</td>\n",
       "      <td>0</td>\n",
       "      <td>1</td>\n",
       "    </tr>\n",
       "    <tr>\n",
       "      <th>20730</th>\n",
       "      <td>Pb4 S13 Sb6</td>\n",
       "      <td>1.0</td>\n",
       "      <td>0.337095</td>\n",
       "      <td>0.720140</td>\n",
       "      <td>0</td>\n",
       "      <td>1</td>\n",
       "    </tr>\n",
       "    <tr>\n",
       "      <th>20737</th>\n",
       "      <td>Ga3 Ni3 Zr1</td>\n",
       "      <td>1.0</td>\n",
       "      <td>0.266283</td>\n",
       "      <td>0.732672</td>\n",
       "      <td>0</td>\n",
       "      <td>1</td>\n",
       "    </tr>\n",
       "  </tbody>\n",
       "</table>\n",
       "<p>684 rows × 6 columns</p>\n",
       "</div>"
      ],
      "text/plain": [
       "                  formula  label   crabnet     roost  crabnet_label  \\\n",
       "3               Te2 V1.04    0.0  0.899129  0.156443              1   \n",
       "16            Lu5 Mo2 O12    1.0  0.215111  0.528088              0   \n",
       "33         Mo4 O22 P4 Rb3    0.0  0.832558  0.121034              1   \n",
       "44        H54 Cl4 Co3 N33    1.0  0.320666  0.534450              0   \n",
       "75          Cu1 O7 V2 Zn1    1.0  0.208742  0.640481              0   \n",
       "...                   ...    ...       ...       ...            ...   \n",
       "20709       Cu0.5 Nb1 Se2    1.0  0.080588  0.862991              0   \n",
       "20715   C6 H20 Cl4 Hg1 N2    0.0  0.612588  0.094749              1   \n",
       "20717  Ba1 Nb0.5 O3 Tb0.5    1.0  0.341908  0.519833              0   \n",
       "20730         Pb4 S13 Sb6    1.0  0.337095  0.720140              0   \n",
       "20737         Ga3 Ni3 Zr1    1.0  0.266283  0.732672              0   \n",
       "\n",
       "       roost_label  \n",
       "3                0  \n",
       "16               1  \n",
       "33               0  \n",
       "44               1  \n",
       "75               1  \n",
       "...            ...  \n",
       "20709            1  \n",
       "20715            0  \n",
       "20717            1  \n",
       "20730            1  \n",
       "20737            1  \n",
       "\n",
       "[684 rows x 6 columns]"
      ]
     },
     "execution_count": 49,
     "metadata": {},
     "output_type": "execute_result"
    }
   ],
   "source": [
    "da=df.loc[df['label']==df['roost_label']]\n",
    "dc=da.loc[da['label']!=da['crabnet_label']]\n",
    "dc"
   ]
  },
  {
   "cell_type": "code",
   "execution_count": null,
   "metadata": {},
   "outputs": [
    {
     "data": {
      "text/plain": [
       "(0.08653339086245745, 0.03279160074787861)"
      ]
     },
     "execution_count": 50,
     "metadata": {},
     "output_type": "execute_result"
    }
   ],
   "source": [
    "len(db)/len(df),len(dc)/len(df)"
   ]
  },
  {
   "cell_type": "code",
   "execution_count": null,
   "metadata": {},
   "outputs": [
    {
     "data": {
      "text/plain": [
       "0.11932499161033606"
      ]
     },
     "execution_count": 51,
     "metadata": {},
     "output_type": "execute_result"
    }
   ],
   "source": [
    "(len(db)+len(dc))/len(df)"
   ]
  },
  {
   "cell_type": "code",
   "execution_count": null,
   "metadata": {},
   "outputs": [],
   "source": []
  }
 ],
 "metadata": {
  "kernelspec": {
   "display_name": "Python 3 (ipykernel)",
   "language": "python",
   "name": "python3"
  },
  "language_info": {
   "codemirror_mode": {
    "name": "ipython",
    "version": 3
   },
   "file_extension": ".py",
   "mimetype": "text/x-python",
   "name": "python",
   "nbconvert_exporter": "python",
   "pygments_lexer": "ipython3",
   "version": "3.9.19"
  }
 },
 "nbformat": 4,
 "nbformat_minor": 2
}
